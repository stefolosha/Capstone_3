{
 "cells": [
  {
   "cell_type": "code",
   "execution_count": 1,
   "id": "29496c70",
   "metadata": {},
   "outputs": [],
   "source": [
    "import pandas as pd\n",
    "import numpy as np\n",
    "import matplotlib.pyplot as plt\n",
    "import nltk\n",
    "from nltk.corpus import stopwords\n",
    "stop=set(stopwords.words('english'))\n",
    "from collections import Counter\n",
    "import seaborn as sns\n",
    "from nltk import punkt, wordnet, word_tokenize\n",
    "from nltk.stem import PorterStemmer,  WordNetLemmatizer \n",
    "from textblob import TextBlob\n",
    "import collections\n",
    "from nltk.sentiment.vader import SentimentIntensityAnalyzer\n",
    "import spacy\n",
    "import en_core_web_sm\n",
    "from textstat import flesch_reading_ease"
   ]
  },
  {
   "cell_type": "code",
   "execution_count": 3,
   "id": "dde4a360",
   "metadata": {},
   "outputs": [],
   "source": [
    "df = pd.read_json(r'C:\\Users\\User\\Cell_Phones_and_Accessories\\Cell_Phones_and_Accessories.json', lines=True)"
   ]
  },
  {
   "cell_type": "markdown",
   "id": "584d7b2e",
   "metadata": {},
   "source": [
    "This json file is 2BG and my computer is having a hard time handling the data. Since there are over 3 million reviews. I will neeed randomly remove values for this to become more workable"
   ]
  },
  {
   "cell_type": "code",
   "execution_count": 20,
   "id": "dcbc728d",
   "metadata": {},
   "outputs": [],
   "source": [
    "np.random.seed(10)\n",
    "\n",
    "remove_n = 3100000\n",
    "drop_indices = np.random.choice(df.index, remove_n, replace=False)\n",
    "df_subset = df.drop(drop_indices)\n"
   ]
  },
  {
   "cell_type": "code",
   "execution_count": 25,
   "id": "05d7d31f",
   "metadata": {},
   "outputs": [],
   "source": [
    "df = df_subset\n"
   ]
  },
  {
   "cell_type": "code",
   "execution_count": 23,
   "id": "d649a0f9",
   "metadata": {},
   "outputs": [],
   "source": [
    "df.to_csv('Cell_phone_and_accesory_reviews.csv')"
   ]
  },
  {
   "cell_type": "code",
   "execution_count": 2,
   "id": "d1e644f2",
   "metadata": {},
   "outputs": [],
   "source": [
    "df = pd.read_csv(r'Cell_phone_and_accesory_reviews.csv')"
   ]
  },
  {
   "cell_type": "code",
   "execution_count": 12,
   "id": "fce586f0",
   "metadata": {},
   "outputs": [
    {
     "data": {
      "text/html": [
       "<div>\n",
       "<style scoped>\n",
       "    .dataframe tbody tr th:only-of-type {\n",
       "        vertical-align: middle;\n",
       "    }\n",
       "\n",
       "    .dataframe tbody tr th {\n",
       "        vertical-align: top;\n",
       "    }\n",
       "\n",
       "    .dataframe thead th {\n",
       "        text-align: right;\n",
       "    }\n",
       "</style>\n",
       "<table border=\"1\" class=\"dataframe\">\n",
       "  <thead>\n",
       "    <tr style=\"text-align: right;\">\n",
       "      <th></th>\n",
       "      <th>Unnamed: 0</th>\n",
       "      <th>_id</th>\n",
       "      <th>reviewerID</th>\n",
       "      <th>asin</th>\n",
       "      <th>reviewerName</th>\n",
       "      <th>helpful</th>\n",
       "      <th>reviewText</th>\n",
       "      <th>overall</th>\n",
       "      <th>summary</th>\n",
       "      <th>unixReviewTime</th>\n",
       "      <th>reviewTime</th>\n",
       "      <th>category</th>\n",
       "      <th>class</th>\n",
       "    </tr>\n",
       "  </thead>\n",
       "  <tbody>\n",
       "    <tr>\n",
       "      <th>0</th>\n",
       "      <td>2</td>\n",
       "      <td>{'$oid': '5a1321d5741a2384e802c550'}</td>\n",
       "      <td>A1YX2RBMS1L9L</td>\n",
       "      <td>0110400550</td>\n",
       "      <td>Andrea Busch</td>\n",
       "      <td>[0, 0]</td>\n",
       "      <td>Saw this same case at a theme park store for 2...</td>\n",
       "      <td>5</td>\n",
       "      <td>Great product</td>\n",
       "      <td>1353542400</td>\n",
       "      <td>11 22, 2012</td>\n",
       "      <td>Cell_Phones_and_Accessories</td>\n",
       "      <td>1</td>\n",
       "    </tr>\n",
       "    <tr>\n",
       "      <th>1</th>\n",
       "      <td>15</td>\n",
       "      <td>{'$oid': '5a1321d5741a2384e802c554'}</td>\n",
       "      <td>A292527VPX98P8</td>\n",
       "      <td>0110400550</td>\n",
       "      <td>Cebell</td>\n",
       "      <td>[0, 1]</td>\n",
       "      <td>It may look cute. This case started off pretty...</td>\n",
       "      <td>1</td>\n",
       "      <td>Do NOT GET IT!!</td>\n",
       "      <td>1353888000</td>\n",
       "      <td>11 26, 2012</td>\n",
       "      <td>Cell_Phones_and_Accessories</td>\n",
       "      <td>0</td>\n",
       "    </tr>\n",
       "    <tr>\n",
       "      <th>2</th>\n",
       "      <td>24</td>\n",
       "      <td>{'$oid': '5a1321d5741a2384e802c56b'}</td>\n",
       "      <td>ALX0R9TJFYPRK</td>\n",
       "      <td>0110400550</td>\n",
       "      <td>sav milk schenk</td>\n",
       "      <td>[0, 0]</td>\n",
       "      <td>It cracks easy but its a nice case and i got a...</td>\n",
       "      <td>4</td>\n",
       "      <td>Its not the best.</td>\n",
       "      <td>1371168000</td>\n",
       "      <td>06 14, 2013</td>\n",
       "      <td>Cell_Phones_and_Accessories</td>\n",
       "      <td>1</td>\n",
       "    </tr>\n",
       "    <tr>\n",
       "      <th>3</th>\n",
       "      <td>106</td>\n",
       "      <td>{'$oid': '5a1321d5741a2384e802c5c3'}</td>\n",
       "      <td>A3GSWE15RXFGGB</td>\n",
       "      <td>120401308X</td>\n",
       "      <td>hi</td>\n",
       "      <td>[2, 3]</td>\n",
       "      <td>I've ordered this item about a month ago and s...</td>\n",
       "      <td>2</td>\n",
       "      <td>still have yet to recieve</td>\n",
       "      <td>1361145600</td>\n",
       "      <td>02 18, 2013</td>\n",
       "      <td>Cell_Phones_and_Accessories</td>\n",
       "      <td>0</td>\n",
       "    </tr>\n",
       "    <tr>\n",
       "      <th>4</th>\n",
       "      <td>144</td>\n",
       "      <td>{'$oid': '5a1321d5741a2384e802c5eb'}</td>\n",
       "      <td>A1A6IA2UUM5KZV</td>\n",
       "      <td>120401325X</td>\n",
       "      <td>Jamie Sutherland</td>\n",
       "      <td>[0, 0]</td>\n",
       "      <td>The patterns do vary just like in the picture ...</td>\n",
       "      <td>5</td>\n",
       "      <td>Great!</td>\n",
       "      <td>1385510400</td>\n",
       "      <td>11 27, 2013</td>\n",
       "      <td>Cell_Phones_and_Accessories</td>\n",
       "      <td>1</td>\n",
       "    </tr>\n",
       "  </tbody>\n",
       "</table>\n",
       "</div>"
      ],
      "text/plain": [
       "   Unnamed: 0                                   _id      reviewerID  \\\n",
       "0           2  {'$oid': '5a1321d5741a2384e802c550'}   A1YX2RBMS1L9L   \n",
       "1          15  {'$oid': '5a1321d5741a2384e802c554'}  A292527VPX98P8   \n",
       "2          24  {'$oid': '5a1321d5741a2384e802c56b'}   ALX0R9TJFYPRK   \n",
       "3         106  {'$oid': '5a1321d5741a2384e802c5c3'}  A3GSWE15RXFGGB   \n",
       "4         144  {'$oid': '5a1321d5741a2384e802c5eb'}  A1A6IA2UUM5KZV   \n",
       "\n",
       "         asin      reviewerName helpful  \\\n",
       "0  0110400550      Andrea Busch  [0, 0]   \n",
       "1  0110400550            Cebell  [0, 1]   \n",
       "2  0110400550   sav milk schenk  [0, 0]   \n",
       "3  120401308X                hi  [2, 3]   \n",
       "4  120401325X  Jamie Sutherland  [0, 0]   \n",
       "\n",
       "                                          reviewText  overall  \\\n",
       "0  Saw this same case at a theme park store for 2...        5   \n",
       "1  It may look cute. This case started off pretty...        1   \n",
       "2  It cracks easy but its a nice case and i got a...        4   \n",
       "3  I've ordered this item about a month ago and s...        2   \n",
       "4  The patterns do vary just like in the picture ...        5   \n",
       "\n",
       "                     summary  unixReviewTime   reviewTime  \\\n",
       "0              Great product      1353542400  11 22, 2012   \n",
       "1            Do NOT GET IT!!      1353888000  11 26, 2012   \n",
       "2          Its not the best.      1371168000  06 14, 2013   \n",
       "3  still have yet to recieve      1361145600  02 18, 2013   \n",
       "4                     Great!      1385510400  11 27, 2013   \n",
       "\n",
       "                      category  class  \n",
       "0  Cell_Phones_and_Accessories      1  \n",
       "1  Cell_Phones_and_Accessories      0  \n",
       "2  Cell_Phones_and_Accessories      1  \n",
       "3  Cell_Phones_and_Accessories      0  \n",
       "4  Cell_Phones_and_Accessories      1  "
      ]
     },
     "execution_count": 12,
     "metadata": {},
     "output_type": "execute_result"
    }
   ],
   "source": [
    "df.head()"
   ]
  },
  {
   "cell_type": "code",
   "execution_count": 13,
   "id": "469550ff",
   "metadata": {},
   "outputs": [
    {
     "name": "stdout",
     "output_type": "stream",
     "text": [
      "<class 'pandas.core.frame.DataFrame'>\n",
      "RangeIndex: 85845 entries, 0 to 85844\n",
      "Data columns (total 13 columns):\n",
      " #   Column          Non-Null Count  Dtype \n",
      "---  ------          --------------  ----- \n",
      " 0   Unnamed: 0      85845 non-null  int64 \n",
      " 1   _id             85845 non-null  object\n",
      " 2   reviewerID      85845 non-null  object\n",
      " 3   asin            85845 non-null  object\n",
      " 4   reviewerName    84855 non-null  object\n",
      " 5   helpful         85845 non-null  object\n",
      " 6   reviewText      85845 non-null  object\n",
      " 7   overall         85845 non-null  int64 \n",
      " 8   summary         85844 non-null  object\n",
      " 9   unixReviewTime  85845 non-null  int64 \n",
      " 10  reviewTime      85845 non-null  object\n",
      " 11  category        85845 non-null  object\n",
      " 12  class           85845 non-null  int64 \n",
      "dtypes: int64(4), object(9)\n",
      "memory usage: 8.5+ MB\n"
     ]
    }
   ],
   "source": [
    "df.info()"
   ]
  },
  {
   "cell_type": "code",
   "execution_count": 14,
   "id": "605cf939",
   "metadata": {},
   "outputs": [
    {
     "data": {
      "text/html": [
       "<div>\n",
       "<style scoped>\n",
       "    .dataframe tbody tr th:only-of-type {\n",
       "        vertical-align: middle;\n",
       "    }\n",
       "\n",
       "    .dataframe tbody tr th {\n",
       "        vertical-align: top;\n",
       "    }\n",
       "\n",
       "    .dataframe thead th {\n",
       "        text-align: right;\n",
       "    }\n",
       "</style>\n",
       "<table border=\"1\" class=\"dataframe\">\n",
       "  <thead>\n",
       "    <tr style=\"text-align: right;\">\n",
       "      <th></th>\n",
       "      <th>Unnamed: 0</th>\n",
       "      <th>overall</th>\n",
       "      <th>unixReviewTime</th>\n",
       "      <th>class</th>\n",
       "    </tr>\n",
       "  </thead>\n",
       "  <tbody>\n",
       "    <tr>\n",
       "      <th>count</th>\n",
       "      <td>8.584500e+04</td>\n",
       "      <td>85845.000000</td>\n",
       "      <td>8.584500e+04</td>\n",
       "      <td>85845.000000</td>\n",
       "    </tr>\n",
       "    <tr>\n",
       "      <th>mean</th>\n",
       "      <td>1.589041e+06</td>\n",
       "      <td>3.890745</td>\n",
       "      <td>1.364398e+09</td>\n",
       "      <td>0.706017</td>\n",
       "    </tr>\n",
       "    <tr>\n",
       "      <th>std</th>\n",
       "      <td>9.193931e+05</td>\n",
       "      <td>1.436575</td>\n",
       "      <td>4.099795e+07</td>\n",
       "      <td>0.455587</td>\n",
       "    </tr>\n",
       "    <tr>\n",
       "      <th>min</th>\n",
       "      <td>2.000000e+00</td>\n",
       "      <td>1.000000</td>\n",
       "      <td>9.707040e+08</td>\n",
       "      <td>0.000000</td>\n",
       "    </tr>\n",
       "    <tr>\n",
       "      <th>25%</th>\n",
       "      <td>7.927150e+05</td>\n",
       "      <td>3.000000</td>\n",
       "      <td>1.355011e+09</td>\n",
       "      <td>0.000000</td>\n",
       "    </tr>\n",
       "    <tr>\n",
       "      <th>50%</th>\n",
       "      <td>1.588378e+06</td>\n",
       "      <td>5.000000</td>\n",
       "      <td>1.374278e+09</td>\n",
       "      <td>1.000000</td>\n",
       "    </tr>\n",
       "    <tr>\n",
       "      <th>75%</th>\n",
       "      <td>2.387435e+06</td>\n",
       "      <td>5.000000</td>\n",
       "      <td>1.391299e+09</td>\n",
       "      <td>1.000000</td>\n",
       "    </tr>\n",
       "    <tr>\n",
       "      <th>max</th>\n",
       "      <td>3.185825e+06</td>\n",
       "      <td>5.000000</td>\n",
       "      <td>1.406074e+09</td>\n",
       "      <td>1.000000</td>\n",
       "    </tr>\n",
       "  </tbody>\n",
       "</table>\n",
       "</div>"
      ],
      "text/plain": [
       "         Unnamed: 0       overall  unixReviewTime         class\n",
       "count  8.584500e+04  85845.000000    8.584500e+04  85845.000000\n",
       "mean   1.589041e+06      3.890745    1.364398e+09      0.706017\n",
       "std    9.193931e+05      1.436575    4.099795e+07      0.455587\n",
       "min    2.000000e+00      1.000000    9.707040e+08      0.000000\n",
       "25%    7.927150e+05      3.000000    1.355011e+09      0.000000\n",
       "50%    1.588378e+06      5.000000    1.374278e+09      1.000000\n",
       "75%    2.387435e+06      5.000000    1.391299e+09      1.000000\n",
       "max    3.185825e+06      5.000000    1.406074e+09      1.000000"
      ]
     },
     "execution_count": 14,
     "metadata": {},
     "output_type": "execute_result"
    }
   ],
   "source": [
    "df.describe()"
   ]
  },
  {
   "cell_type": "markdown",
   "id": "3a89e029",
   "metadata": {},
   "source": [
    "First we take a look at total characters in the summary and review text"
   ]
  },
  {
   "cell_type": "code",
   "execution_count": 15,
   "id": "fc3852f5",
   "metadata": {},
   "outputs": [
    {
     "data": {
      "text/plain": [
       "Text(0.5, 1.0, 'Characters in Summary')"
      ]
     },
     "execution_count": 15,
     "metadata": {},
     "output_type": "execute_result"
    },
    {
     "data": {
      "image/png": "[encoded data removed]",
      "text/plain": [
       "<Figure size 432x288 with 1 Axes>"
      ]
     },
     "metadata": {
      "needs_background": "light"
     },
     "output_type": "display_data"
    }
   ],
   "source": [
    "df['summary'].str.len().hist()\n",
    "plt.xlabel('total characters')\n",
    "plt.ylabel('count')\n",
    "plt.title('Characters in Summary')"
   ]
  },
  {
   "cell_type": "code",
   "execution_count": 16,
   "id": "b7aa96f4",
   "metadata": {},
   "outputs": [
    {
     "data": {
      "text/plain": [
       "Text(0.5, 1.0, 'Characters in review')"
      ]
     },
     "execution_count": 16,
     "metadata": {},
     "output_type": "execute_result"
    },
    {
     "data": {
      "image/png": "[encoded data removed]",
      "text/plain": [
       "<Figure size 432x288 with 1 Axes>"
      ]
     },
     "metadata": {
      "needs_background": "light"
     },
     "output_type": "display_data"
    }
   ],
   "source": [
    "df['reviewText'].str.len().hist()\n",
    "plt.xlabel('total characters')\n",
    "plt.ylabel('count')\n",
    "plt.title('Characters in review')"
   ]
  },
  {
   "cell_type": "markdown",
   "id": "bd09c6e2",
   "metadata": {},
   "source": [
    "Next we look at word length in both cases"
   ]
  },
  {
   "cell_type": "code",
   "execution_count": 83,
   "id": "e2315d63",
   "metadata": {},
   "outputs": [
    {
     "data": {
      "text/plain": [
       "Text(0.5, 1.0, 'Words in summary')"
      ]
     },
     "execution_count": 83,
     "metadata": {},
     "output_type": "execute_result"
    },
    {
     "data": {
      "image/png": "[encoded data removed]",
      "text/plain": [
       "<Figure size 432x288 with 1 Axes>"
      ]
     },
     "metadata": {
      "needs_background": "light"
     },
     "output_type": "display_data"
    }
   ],
   "source": [
    "df['summary'] = df['summary'].astype(str)\n",
    "splitting = df['summary'].str.split()\n",
    "list_lengths = []\n",
    "for i in splitting:\n",
    "    if type(i) == list:\n",
    "        list_lengths.append(len(i))       \n",
    "plt.hist(list_lengths)\n",
    "plt.xlabel('total words')\n",
    "plt.ylabel('count')\n",
    "plt.title('Words in summary')"
   ]
  },
  {
   "cell_type": "code",
   "execution_count": 84,
   "id": "f1e0a49d",
   "metadata": {},
   "outputs": [
    {
     "data": {
      "text/plain": [
       "Text(0.5, 1.0, 'Words in review')"
      ]
     },
     "execution_count": 84,
     "metadata": {},
     "output_type": "execute_result"
    },
    {
     "data": {
      "image/png": "[encoded data removed]",
      "text/plain": [
       "<Figure size 432x288 with 1 Axes>"
      ]
     },
     "metadata": {
      "needs_background": "light"
     },
     "output_type": "display_data"
    }
   ],
   "source": [
    "df['reviewText'].str.split().map(lambda x: len(x)).hist()\n",
    "plt.xlabel('total words')\n",
    "plt.ylabel('count')\n",
    "plt.title('Words in review')"
   ]
  },
  {
   "cell_type": "markdown",
   "id": "6492e56c",
   "metadata": {},
   "source": [
    "Here we will focus on the review texts instead of the summary since there is more information here"
   ]
  },
  {
   "cell_type": "code",
   "execution_count": 3,
   "id": "db97ebc3",
   "metadata": {},
   "outputs": [],
   "source": [
    "corpus=[]\n",
    "split_df= df['reviewText'].str.split()\n",
    "\n",
    "new=split_df.values.tolist()\n",
    "\n",
    "corpus=[word.lower() for i in new for word in i]\n",
    "\n",
    "from collections import defaultdict\n",
    "dic=defaultdict(int)\n",
    "for word in corpus:\n",
    "    if word in stop:\n",
    "        dic[word]+=1"
   ]
  },
  {
   "cell_type": "code",
   "execution_count": 4,
   "id": "3054d238",
   "metadata": {},
   "outputs": [],
   "source": [
    "def plot_top_stopwords_barchart(text):\n",
    "    stop=set(stopwords.words('english'))\n",
    "    \n",
    "    new= text.str.split()\n",
    "    new=new.values.tolist()\n",
    "    corpus=[word for i in new for word in i]\n",
    "    from collections import defaultdict\n",
    "    dic=defaultdict(int)\n",
    "    for word in corpus:\n",
    "        if word in stop:\n",
    "            dic[word]+=1\n",
    "            \n",
    "    top=sorted(dic.items(), key=lambda x:x[1],reverse=True)[:10] \n",
    "    x,y=zip(*top)\n",
    "    plt.bar(x,y)"
   ]
  },
  {
   "cell_type": "code",
   "execution_count": 87,
   "id": "8a9e41fa",
   "metadata": {},
   "outputs": [
    {
     "data": {
      "text/plain": [
       "Text(0, 0.5, 'word count')"
      ]
     },
     "execution_count": 87,
     "metadata": {},
     "output_type": "execute_result"
    },
    {
     "data": {
      "image/png": "[encoded data removed]",
      "text/plain": [
       "<Figure size 432x288 with 1 Axes>"
      ]
     },
     "metadata": {
      "needs_background": "light"
     },
     "output_type": "display_data"
    }
   ],
   "source": [
    "plot_top_stopwords_barchart(df['reviewText'])\n",
    "plt.xlabel('stop words')\n",
    "plt.ylabel('word count')"
   ]
  },
  {
   "cell_type": "code",
   "execution_count": 161,
   "id": "650d2b21",
   "metadata": {},
   "outputs": [
    {
     "data": {
      "text/plain": [
       "Text(0, 0.5, 'most common words')"
      ]
     },
     "execution_count": 161,
     "metadata": {},
     "output_type": "execute_result"
    },
    {
     "data": {
      "image/png": "[encoded data removed]",
      "text/plain": [
       "<Figure size 432x288 with 1 Axes>"
      ]
     },
     "metadata": {
      "needs_background": "light"
     },
     "output_type": "display_data"
    }
   ],
   "source": [
    "counts=Counter(corpus)\n",
    "most=counts.most_common()\n",
    "\n",
    "x, y= [], []\n",
    "for word,count in most[:70]:\n",
    "    if (word not in stop):\n",
    "        x.append(word)\n",
    "        y.append(count)\n",
    "        \n",
    "sns.barplot(x=y,y=x)\n",
    "plt.xlabel('count')\n",
    "plt.ylabel('most common words')"
   ]
  },
  {
   "cell_type": "code",
   "execution_count": 89,
   "id": "5eb109ce",
   "metadata": {},
   "outputs": [
    {
     "data": {
      "text/plain": [
       "[('you re', 1608),\n",
       " ('you ll', 647),\n",
       " ('they re', 548),\n",
       " ('on off', 353),\n",
       " ('amazon com', 240),\n",
       " ('it ll', 236),\n",
       " ('anti glare', 193),\n",
       " ('you ve', 184),\n",
       " ('it the', 173),\n",
       " ('built in', 169)]"
      ]
     },
     "execution_count": 89,
     "metadata": {},
     "output_type": "execute_result"
    }
   ],
   "source": [
    "from nltk.util import ngrams\n",
    "from sklearn.feature_extraction.text import CountVectorizer\n",
    "def ngram(corpus, n=None):\n",
    "    vectors = CountVectorizer(ngram_range=(n, n)).fit(corpus)\n",
    "    combo_words = vectors.transform(corpus)\n",
    "    sum_words = combo_words.sum(axis=0) \n",
    "    words_count = [(word, sum_words[0, idx]) for word, idx in vectors.vocabulary_.items()]\n",
    "    words_count =sorted(words_count, key = lambda x: x[1], reverse=True)\n",
    "    return words_count[:10]\n",
    "\n",
    "ngram(corpus, 2)"
   ]
  },
  {
   "cell_type": "markdown",
   "id": "6495ca07",
   "metadata": {},
   "source": [
    "First we look at the reviews without the stop words then we take a look at the raw data with stop words"
   ]
  },
  {
   "cell_type": "code",
   "execution_count": 163,
   "id": "52ab9af5",
   "metadata": {},
   "outputs": [
    {
     "data": {
      "text/plain": [
       "Text(0.5, 1.0, 'summary')"
      ]
     },
     "execution_count": 163,
     "metadata": {},
     "output_type": "execute_result"
    },
    {
     "data": {
      "image/png": "[encoded data removed]",
      "text/plain": [
       "<Figure size 432x288 with 1 Axes>"
      ]
     },
     "metadata": {
      "needs_background": "light"
     },
     "output_type": "display_data"
    }
   ],
   "source": [
    "top_n_bigrams=ngram(corpus,2)[:10] \n",
    "x,y=map(list,zip(*top_n_bigrams))\n",
    "sns.barplot(x=y,y=x)\n",
    "plt.xlabel('count')\n",
    "plt.ylabel('most common 2 words')\n",
    "plt.title('summary')"
   ]
  },
  {
   "cell_type": "code",
   "execution_count": 164,
   "id": "bacb33b9",
   "metadata": {},
   "outputs": [
    {
     "data": {
      "text/plain": [
       "Text(0, 0.5, 'most common 3 words')"
      ]
     },
     "execution_count": 164,
     "metadata": {},
     "output_type": "execute_result"
    },
    {
     "data": {
      "image/png": "[encoded data removed]",
      "text/plain": [
       "<Figure size 432x288 with 1 Axes>"
      ]
     },
     "metadata": {
      "needs_background": "light"
     },
     "output_type": "display_data"
    }
   ],
   "source": [
    "top_n_bigrams=ngram(corpus,3)[:10] \n",
    "x,y=map(list,zip(*top_n_bigrams))\n",
    "sns.barplot(x=y,y=x)\n",
    "plt.xlabel('count')\n",
    "plt.ylabel('most common 3 words')\n",
    "plt.title('summary')"
   ]
  },
  {
   "cell_type": "code",
   "execution_count": 165,
   "id": "71dd4c80",
   "metadata": {},
   "outputs": [
    {
     "data": {
      "text/plain": [
       "Text(0.5, 1.0, 'review text')"
      ]
     },
     "execution_count": 165,
     "metadata": {},
     "output_type": "execute_result"
    },
    {
     "data": {
      "image/png": "[encoded data removed]",
      "text/plain": [
       "<Figure size 432x288 with 1 Axes>"
      ]
     },
     "metadata": {
      "needs_background": "light"
     },
     "output_type": "display_data"
    }
   ],
   "source": [
    "top_n_bigrams=ngram(df['reviewText'],2)[:10] \n",
    "x,y=map(list,zip(*top_n_bigrams))\n",
    "sns.barplot(x=y,y=x)\n",
    "plt.xlabel('count')\n",
    "plt.ylabel('most common 2 words')\n",
    "plt.title('review text')"
   ]
  },
  {
   "cell_type": "code",
   "execution_count": 166,
   "id": "d9d1eddb",
   "metadata": {},
   "outputs": [
    {
     "data": {
      "text/plain": [
       "Text(0.5, 1.0, 'review text')"
      ]
     },
     "execution_count": 166,
     "metadata": {},
     "output_type": "execute_result"
    },
    {
     "data": {
      "image/png": "[encoded data removed]",
      "text/plain": [
       "<Figure size 432x288 with 1 Axes>"
      ]
     },
     "metadata": {
      "needs_background": "light"
     },
     "output_type": "display_data"
    }
   ],
   "source": [
    "top_n_bigrams=ngram(df['reviewText'],3)[:10] \n",
    "x,y=map(list,zip(*top_n_bigrams))\n",
    "sns.barplot(x=y,y=x)\n",
    "plt.xlabel('count')\n",
    "plt.ylabel('most common 3 words')\n",
    "plt.title('review text')"
   ]
  },
  {
   "cell_type": "code",
   "execution_count": 43,
   "id": "1f49dde6",
   "metadata": {},
   "outputs": [
    {
     "data": {
      "text/plain": [
       "<AxesSubplot:>"
      ]
     },
     "execution_count": 43,
     "metadata": {},
     "output_type": "execute_result"
    },
    {
     "data": {
      "image/png": "[encoded data removed]",
      "text/plain": [
       "<Figure size 432x288 with 1 Axes>"
      ]
     },
     "metadata": {
      "needs_background": "light"
     },
     "output_type": "display_data"
    }
   ],
   "source": [
    "top_n_bigrams=ngram(df['reviewText'],4)[:10] \n",
    "x,y=map(list,zip(*top_n_bigrams))\n",
    "sns.barplot(x=y,y=x)\n",
    "plt.xlabel('count')\n",
    "plt.ylabel('most common 4 words')\n",
    "plt.title('review text')"
   ]
  },
  {
   "cell_type": "markdown",
   "id": "50c7204f",
   "metadata": {},
   "source": [
    "Next we will take a look at lemmatizing and tokenize our reviews"
   ]
  },
  {
   "cell_type": "code",
   "execution_count": 66,
   "id": "64624690",
   "metadata": {},
   "outputs": [],
   "source": [
    "def preprocess(df): #may be alble to delete this cell\n",
    "    corpus = []\n",
    "    stemmer = PorterStemmer() #remove morphing and inflection\n",
    "    lemmatize = WordNetLemmatizer()# grouping together different inflections of the same word\n",
    "    for reviews in df['reviewText']:\n",
    "        words = [word for word in word_tokenize(reviews) if (word not in stop)]\n",
    "        words = [lemmatize.lemmatize(word) for word in words if len(word)>2]\n",
    "        \n",
    "        corpus.append(words)\n",
    "    return(corpus)\n",
    "corpus = preprocess(df)"
   ]
  },
  {
   "cell_type": "markdown",
   "id": "892c18ec",
   "metadata": {},
   "source": [
    "sentiment analysis:\n",
    "\n",
    "\n",
    "use textbob: comes standard\n",
    "\n"
   ]
  },
  {
   "cell_type": "code",
   "execution_count": 167,
   "id": "00256fb6",
   "metadata": {},
   "outputs": [
    {
     "data": {
      "text/plain": [
       "Text(0.5, 1.0, 'Sentitment review scores')"
      ]
     },
     "execution_count": 167,
     "metadata": {},
     "output_type": "execute_result"
    },
    {
     "data": {
      "image/png": "[encoded data removed]",
      "text/plain": [
       "<Figure size 432x288 with 1 Axes>"
      ]
     },
     "metadata": {
      "needs_background": "light"
     },
     "output_type": "display_data"
    }
   ],
   "source": [
    "def sentiment(text):\n",
    "    return TextBlob(text).sentiment.polarity\n",
    "\n",
    "df['sentiments_reviews'] = df['reviewText'].apply(lambda x : sentiment(x))\n",
    "df['sentiments_reviews'].hist()\n",
    "plt.xlabel('sentiment score')\n",
    "plt.ylabel('count')\n",
    "plt.title('Sentitment review scores')"
   ]
  },
  {
   "cell_type": "code",
   "execution_count": 168,
   "id": "f68d513e",
   "metadata": {},
   "outputs": [
    {
     "data": {
      "text/plain": [
       "Text(0.5, 1.0, 'Sentitment summary scores')"
      ]
     },
     "execution_count": 168,
     "metadata": {},
     "output_type": "execute_result"
    },
    {
     "data": {
      "image/png": "[encoded data removed]",
      "text/plain": [
       "<Figure size 432x288 with 1 Axes>"
      ]
     },
     "metadata": {
      "needs_background": "light"
     },
     "output_type": "display_data"
    }
   ],
   "source": [
    "df['sentiment_summary'] = df['summary'].apply(lambda x : sentiment(x))\n",
    "df['sentiment_summary'].hist()\n",
    "plt.xlabel('sentiment score')\n",
    "plt.ylabel('count')\n",
    "plt.title('Sentitment summary scores')"
   ]
  },
  {
   "cell_type": "code",
   "execution_count": 169,
   "id": "1b8672dd",
   "metadata": {},
   "outputs": [
    {
     "data": {
      "text/plain": [
       "Text(0.5, 1.0, 'Sentitment review scores')"
      ]
     },
     "execution_count": 169,
     "metadata": {},
     "output_type": "execute_result"
    },
    {
     "data": {
      "image/png": "[encoded data removed]",
      "text/plain": [
       "<Figure size 432x288 with 1 Axes>"
      ]
     },
     "metadata": {
      "needs_background": "light"
     },
     "output_type": "display_data"
    }
   ],
   "source": [
    "def rating(x):\n",
    "    if x<0:\n",
    "        return 'neg'\n",
    "    elif x==0:\n",
    "        return 'neu'\n",
    "    else:\n",
    "        return 'pos'\n",
    "    \n",
    "df['reviews_rating']= df['sentiments_reviews'].map(lambda x: rating(x))\n",
    "\n",
    "plt.bar(df['reviews_rating'].value_counts().index,\n",
    "        df['reviews_rating'].value_counts())\n",
    "plt.xlabel('sentiment score')\n",
    "plt.ylabel('count')\n",
    "plt.title('Sentitment review scores')"
   ]
  },
  {
   "cell_type": "code",
   "execution_count": 170,
   "id": "8970159e",
   "metadata": {},
   "outputs": [
    {
     "data": {
      "text/plain": [
       "Text(0.5, 1.0, 'Sentitment summary scores')"
      ]
     },
     "execution_count": 170,
     "metadata": {},
     "output_type": "execute_result"
    },
    {
     "data": {
      "image/png": "[encoded data removed]",
      "text/plain": [
       "<Figure size 432x288 with 1 Axes>"
      ]
     },
     "metadata": {
      "needs_background": "light"
     },
     "output_type": "display_data"
    }
   ],
   "source": [
    "def rating(x):\n",
    "    if x<0:\n",
    "        return 'neg'\n",
    "    elif x==0:\n",
    "        return 'neu'\n",
    "    else:\n",
    "        return 'pos'\n",
    "    \n",
    "df['summary_rating']= sentiment_summary.map(lambda x: rating(x))\n",
    "\n",
    "plt.bar(df['summary_rating'].value_counts().index,\n",
    "        df['summary_rating'].value_counts())\n",
    "plt.xlabel('sentiment score')\n",
    "plt.ylabel('count')\n",
    "plt.title('Sentitment summary scores')"
   ]
  },
  {
   "cell_type": "code",
   "execution_count": 143,
   "id": "7b82a29e",
   "metadata": {},
   "outputs": [
    {
     "name": "stdout",
     "output_type": "stream",
     "text": [
      "0.92\n"
     ]
    },
    {
     "data": {
      "text/html": [
       "<div>\n",
       "<style scoped>\n",
       "    .dataframe tbody tr th:only-of-type {\n",
       "        vertical-align: middle;\n",
       "    }\n",
       "\n",
       "    .dataframe tbody tr th {\n",
       "        vertical-align: top;\n",
       "    }\n",
       "\n",
       "    .dataframe thead th {\n",
       "        text-align: right;\n",
       "    }\n",
       "</style>\n",
       "<table border=\"1\" class=\"dataframe\">\n",
       "  <thead>\n",
       "    <tr style=\"text-align: right;\">\n",
       "      <th></th>\n",
       "      <th>Unnamed: 0</th>\n",
       "      <th>_id</th>\n",
       "      <th>reviewerID</th>\n",
       "      <th>asin</th>\n",
       "      <th>reviewerName</th>\n",
       "      <th>helpful</th>\n",
       "      <th>reviewText</th>\n",
       "      <th>overall</th>\n",
       "      <th>summary</th>\n",
       "      <th>unixReviewTime</th>\n",
       "      <th>reviewTime</th>\n",
       "      <th>category</th>\n",
       "      <th>class</th>\n",
       "      <th>sentiments_reviews</th>\n",
       "      <th>sentiment_summary</th>\n",
       "      <th>reviews_rating</th>\n",
       "      <th>summary_rating</th>\n",
       "    </tr>\n",
       "  </thead>\n",
       "  <tbody>\n",
       "    <tr>\n",
       "      <th>0</th>\n",
       "      <td>2</td>\n",
       "      <td>{'$oid': '5a1321d5741a2384e802c550'}</td>\n",
       "      <td>A1YX2RBMS1L9L</td>\n",
       "      <td>0110400550</td>\n",
       "      <td>Andrea Busch</td>\n",
       "      <td>[0, 0]</td>\n",
       "      <td>Saw this same case at a theme park store for 2...</td>\n",
       "      <td>5</td>\n",
       "      <td>Great product</td>\n",
       "      <td>1353542400</td>\n",
       "      <td>11 22, 2012</td>\n",
       "      <td>Cell_Phones_and_Accessories</td>\n",
       "      <td>1</td>\n",
       "      <td>0.570000</td>\n",
       "      <td>0.80000</td>\n",
       "      <td>pos</td>\n",
       "      <td>pos</td>\n",
       "    </tr>\n",
       "    <tr>\n",
       "      <th>2</th>\n",
       "      <td>24</td>\n",
       "      <td>{'$oid': '5a1321d5741a2384e802c56b'}</td>\n",
       "      <td>ALX0R9TJFYPRK</td>\n",
       "      <td>0110400550</td>\n",
       "      <td>sav milk schenk</td>\n",
       "      <td>[0, 0]</td>\n",
       "      <td>It cracks easy but its a nice case and i got a...</td>\n",
       "      <td>4</td>\n",
       "      <td>Its not the best.</td>\n",
       "      <td>1371168000</td>\n",
       "      <td>06 14, 2013</td>\n",
       "      <td>Cell_Phones_and_Accessories</td>\n",
       "      <td>1</td>\n",
       "      <td>0.433333</td>\n",
       "      <td>1.00000</td>\n",
       "      <td>pos</td>\n",
       "      <td>pos</td>\n",
       "    </tr>\n",
       "    <tr>\n",
       "      <th>4</th>\n",
       "      <td>144</td>\n",
       "      <td>{'$oid': '5a1321d5741a2384e802c5eb'}</td>\n",
       "      <td>A1A6IA2UUM5KZV</td>\n",
       "      <td>120401325X</td>\n",
       "      <td>Jamie Sutherland</td>\n",
       "      <td>[0, 0]</td>\n",
       "      <td>The patterns do vary just like in the picture ...</td>\n",
       "      <td>5</td>\n",
       "      <td>Great!</td>\n",
       "      <td>1385510400</td>\n",
       "      <td>11 27, 2013</td>\n",
       "      <td>Cell_Phones_and_Accessories</td>\n",
       "      <td>1</td>\n",
       "      <td>0.086667</td>\n",
       "      <td>1.00000</td>\n",
       "      <td>pos</td>\n",
       "      <td>pos</td>\n",
       "    </tr>\n",
       "    <tr>\n",
       "      <th>5</th>\n",
       "      <td>170</td>\n",
       "      <td>{'$oid': '5a1321d5741a2384e802c605'}</td>\n",
       "      <td>A25CQXG95ZBTCC</td>\n",
       "      <td>120401325X</td>\n",
       "      <td>satisfied customer</td>\n",
       "      <td>[0, 0]</td>\n",
       "      <td>Not only did my order come in way ahead of tim...</td>\n",
       "      <td>5</td>\n",
       "      <td>absolutely love it!!</td>\n",
       "      <td>1389830400</td>\n",
       "      <td>01 16, 2014</td>\n",
       "      <td>Cell_Phones_and_Accessories</td>\n",
       "      <td>1</td>\n",
       "      <td>0.290625</td>\n",
       "      <td>0.78125</td>\n",
       "      <td>pos</td>\n",
       "      <td>pos</td>\n",
       "    </tr>\n",
       "    <tr>\n",
       "      <th>9</th>\n",
       "      <td>255</td>\n",
       "      <td>{'$oid': '5a1321d5741a2384e802c664'}</td>\n",
       "      <td>AK55NSPES0MAW</td>\n",
       "      <td>1621911888</td>\n",
       "      <td>yakov \"s\"</td>\n",
       "      <td>[0, 0]</td>\n",
       "      <td>good basic phone. go and see many on line revi...</td>\n",
       "      <td>5</td>\n",
       "      <td>good phone</td>\n",
       "      <td>1368057600</td>\n",
       "      <td>05 9, 2013</td>\n",
       "      <td>Cell_Phones_and_Accessories</td>\n",
       "      <td>1</td>\n",
       "      <td>0.433333</td>\n",
       "      <td>0.70000</td>\n",
       "      <td>pos</td>\n",
       "      <td>pos</td>\n",
       "    </tr>\n",
       "  </tbody>\n",
       "</table>\n",
       "</div>"
      ],
      "text/plain": [
       "   Unnamed: 0                                   _id      reviewerID  \\\n",
       "0           2  {'$oid': '5a1321d5741a2384e802c550'}   A1YX2RBMS1L9L   \n",
       "2          24  {'$oid': '5a1321d5741a2384e802c56b'}   ALX0R9TJFYPRK   \n",
       "4         144  {'$oid': '5a1321d5741a2384e802c5eb'}  A1A6IA2UUM5KZV   \n",
       "5         170  {'$oid': '5a1321d5741a2384e802c605'}  A25CQXG95ZBTCC   \n",
       "9         255  {'$oid': '5a1321d5741a2384e802c664'}   AK55NSPES0MAW   \n",
       "\n",
       "         asin        reviewerName helpful  \\\n",
       "0  0110400550        Andrea Busch  [0, 0]   \n",
       "2  0110400550     sav milk schenk  [0, 0]   \n",
       "4  120401325X    Jamie Sutherland  [0, 0]   \n",
       "5  120401325X  satisfied customer  [0, 0]   \n",
       "9  1621911888           yakov \"s\"  [0, 0]   \n",
       "\n",
       "                                          reviewText  overall  \\\n",
       "0  Saw this same case at a theme park store for 2...        5   \n",
       "2  It cracks easy but its a nice case and i got a...        4   \n",
       "4  The patterns do vary just like in the picture ...        5   \n",
       "5  Not only did my order come in way ahead of tim...        5   \n",
       "9  good basic phone. go and see many on line revi...        5   \n",
       "\n",
       "                summary  unixReviewTime   reviewTime  \\\n",
       "0         Great product      1353542400  11 22, 2012   \n",
       "2     Its not the best.      1371168000  06 14, 2013   \n",
       "4                Great!      1385510400  11 27, 2013   \n",
       "5  absolutely love it!!      1389830400  01 16, 2014   \n",
       "9            good phone      1368057600   05 9, 2013   \n",
       "\n",
       "                      category  class  sentiments_reviews  sentiment_summary  \\\n",
       "0  Cell_Phones_and_Accessories      1            0.570000            0.80000   \n",
       "2  Cell_Phones_and_Accessories      1            0.433333            1.00000   \n",
       "4  Cell_Phones_and_Accessories      1            0.086667            1.00000   \n",
       "5  Cell_Phones_and_Accessories      1            0.290625            0.78125   \n",
       "9  Cell_Phones_and_Accessories      1            0.433333            0.70000   \n",
       "\n",
       "  reviews_rating summary_rating  \n",
       "0            pos            pos  \n",
       "2            pos            pos  \n",
       "4            pos            pos  \n",
       "5            pos            pos  \n",
       "9            pos            pos  "
      ]
     },
     "execution_count": 143,
     "metadata": {},
     "output_type": "execute_result"
    }
   ],
   "source": [
    "print(sum(df[df['summary_rating'] == 'pos']['class'].head(25))/25)# quick check on the rating and we can see that most reviews are fake if they are overtly positive\n",
    "(df[df['summary_rating'] == 'pos'].head())"
   ]
  },
  {
   "cell_type": "code",
   "execution_count": 144,
   "id": "a0e64d5c",
   "metadata": {},
   "outputs": [
    {
     "name": "stdout",
     "output_type": "stream",
     "text": [
      "0.8\n"
     ]
    },
    {
     "data": {
      "text/html": [
       "<div>\n",
       "<style scoped>\n",
       "    .dataframe tbody tr th:only-of-type {\n",
       "        vertical-align: middle;\n",
       "    }\n",
       "\n",
       "    .dataframe tbody tr th {\n",
       "        vertical-align: top;\n",
       "    }\n",
       "\n",
       "    .dataframe thead th {\n",
       "        text-align: right;\n",
       "    }\n",
       "</style>\n",
       "<table border=\"1\" class=\"dataframe\">\n",
       "  <thead>\n",
       "    <tr style=\"text-align: right;\">\n",
       "      <th></th>\n",
       "      <th>Unnamed: 0</th>\n",
       "      <th>_id</th>\n",
       "      <th>reviewerID</th>\n",
       "      <th>asin</th>\n",
       "      <th>reviewerName</th>\n",
       "      <th>helpful</th>\n",
       "      <th>reviewText</th>\n",
       "      <th>overall</th>\n",
       "      <th>summary</th>\n",
       "      <th>unixReviewTime</th>\n",
       "      <th>reviewTime</th>\n",
       "      <th>category</th>\n",
       "      <th>class</th>\n",
       "      <th>sentiments_reviews</th>\n",
       "      <th>sentiment_summary</th>\n",
       "      <th>reviews_rating</th>\n",
       "      <th>summary_rating</th>\n",
       "    </tr>\n",
       "  </thead>\n",
       "  <tbody>\n",
       "    <tr>\n",
       "      <th>0</th>\n",
       "      <td>2</td>\n",
       "      <td>{'$oid': '5a1321d5741a2384e802c550'}</td>\n",
       "      <td>A1YX2RBMS1L9L</td>\n",
       "      <td>0110400550</td>\n",
       "      <td>Andrea Busch</td>\n",
       "      <td>[0, 0]</td>\n",
       "      <td>Saw this same case at a theme park store for 2...</td>\n",
       "      <td>5</td>\n",
       "      <td>Great product</td>\n",
       "      <td>1353542400</td>\n",
       "      <td>11 22, 2012</td>\n",
       "      <td>Cell_Phones_and_Accessories</td>\n",
       "      <td>1</td>\n",
       "      <td>0.570000</td>\n",
       "      <td>0.80000</td>\n",
       "      <td>pos</td>\n",
       "      <td>pos</td>\n",
       "    </tr>\n",
       "    <tr>\n",
       "      <th>1</th>\n",
       "      <td>15</td>\n",
       "      <td>{'$oid': '5a1321d5741a2384e802c554'}</td>\n",
       "      <td>A292527VPX98P8</td>\n",
       "      <td>0110400550</td>\n",
       "      <td>Cebell</td>\n",
       "      <td>[0, 1]</td>\n",
       "      <td>It may look cute. This case started off pretty...</td>\n",
       "      <td>1</td>\n",
       "      <td>Do NOT GET IT!!</td>\n",
       "      <td>1353888000</td>\n",
       "      <td>11 26, 2012</td>\n",
       "      <td>Cell_Phones_and_Accessories</td>\n",
       "      <td>0</td>\n",
       "      <td>0.090741</td>\n",
       "      <td>0.00000</td>\n",
       "      <td>pos</td>\n",
       "      <td>neu</td>\n",
       "    </tr>\n",
       "    <tr>\n",
       "      <th>2</th>\n",
       "      <td>24</td>\n",
       "      <td>{'$oid': '5a1321d5741a2384e802c56b'}</td>\n",
       "      <td>ALX0R9TJFYPRK</td>\n",
       "      <td>0110400550</td>\n",
       "      <td>sav milk schenk</td>\n",
       "      <td>[0, 0]</td>\n",
       "      <td>It cracks easy but its a nice case and i got a...</td>\n",
       "      <td>4</td>\n",
       "      <td>Its not the best.</td>\n",
       "      <td>1371168000</td>\n",
       "      <td>06 14, 2013</td>\n",
       "      <td>Cell_Phones_and_Accessories</td>\n",
       "      <td>1</td>\n",
       "      <td>0.433333</td>\n",
       "      <td>1.00000</td>\n",
       "      <td>pos</td>\n",
       "      <td>pos</td>\n",
       "    </tr>\n",
       "    <tr>\n",
       "      <th>4</th>\n",
       "      <td>144</td>\n",
       "      <td>{'$oid': '5a1321d5741a2384e802c5eb'}</td>\n",
       "      <td>A1A6IA2UUM5KZV</td>\n",
       "      <td>120401325X</td>\n",
       "      <td>Jamie Sutherland</td>\n",
       "      <td>[0, 0]</td>\n",
       "      <td>The patterns do vary just like in the picture ...</td>\n",
       "      <td>5</td>\n",
       "      <td>Great!</td>\n",
       "      <td>1385510400</td>\n",
       "      <td>11 27, 2013</td>\n",
       "      <td>Cell_Phones_and_Accessories</td>\n",
       "      <td>1</td>\n",
       "      <td>0.086667</td>\n",
       "      <td>1.00000</td>\n",
       "      <td>pos</td>\n",
       "      <td>pos</td>\n",
       "    </tr>\n",
       "    <tr>\n",
       "      <th>5</th>\n",
       "      <td>170</td>\n",
       "      <td>{'$oid': '5a1321d5741a2384e802c605'}</td>\n",
       "      <td>A25CQXG95ZBTCC</td>\n",
       "      <td>120401325X</td>\n",
       "      <td>satisfied customer</td>\n",
       "      <td>[0, 0]</td>\n",
       "      <td>Not only did my order come in way ahead of tim...</td>\n",
       "      <td>5</td>\n",
       "      <td>absolutely love it!!</td>\n",
       "      <td>1389830400</td>\n",
       "      <td>01 16, 2014</td>\n",
       "      <td>Cell_Phones_and_Accessories</td>\n",
       "      <td>1</td>\n",
       "      <td>0.290625</td>\n",
       "      <td>0.78125</td>\n",
       "      <td>pos</td>\n",
       "      <td>pos</td>\n",
       "    </tr>\n",
       "  </tbody>\n",
       "</table>\n",
       "</div>"
      ],
      "text/plain": [
       "   Unnamed: 0                                   _id      reviewerID  \\\n",
       "0           2  {'$oid': '5a1321d5741a2384e802c550'}   A1YX2RBMS1L9L   \n",
       "1          15  {'$oid': '5a1321d5741a2384e802c554'}  A292527VPX98P8   \n",
       "2          24  {'$oid': '5a1321d5741a2384e802c56b'}   ALX0R9TJFYPRK   \n",
       "4         144  {'$oid': '5a1321d5741a2384e802c5eb'}  A1A6IA2UUM5KZV   \n",
       "5         170  {'$oid': '5a1321d5741a2384e802c605'}  A25CQXG95ZBTCC   \n",
       "\n",
       "         asin        reviewerName helpful  \\\n",
       "0  0110400550        Andrea Busch  [0, 0]   \n",
       "1  0110400550              Cebell  [0, 1]   \n",
       "2  0110400550     sav milk schenk  [0, 0]   \n",
       "4  120401325X    Jamie Sutherland  [0, 0]   \n",
       "5  120401325X  satisfied customer  [0, 0]   \n",
       "\n",
       "                                          reviewText  overall  \\\n",
       "0  Saw this same case at a theme park store for 2...        5   \n",
       "1  It may look cute. This case started off pretty...        1   \n",
       "2  It cracks easy but its a nice case and i got a...        4   \n",
       "4  The patterns do vary just like in the picture ...        5   \n",
       "5  Not only did my order come in way ahead of tim...        5   \n",
       "\n",
       "                summary  unixReviewTime   reviewTime  \\\n",
       "0         Great product      1353542400  11 22, 2012   \n",
       "1       Do NOT GET IT!!      1353888000  11 26, 2012   \n",
       "2     Its not the best.      1371168000  06 14, 2013   \n",
       "4                Great!      1385510400  11 27, 2013   \n",
       "5  absolutely love it!!      1389830400  01 16, 2014   \n",
       "\n",
       "                      category  class  sentiments_reviews  sentiment_summary  \\\n",
       "0  Cell_Phones_and_Accessories      1            0.570000            0.80000   \n",
       "1  Cell_Phones_and_Accessories      0            0.090741            0.00000   \n",
       "2  Cell_Phones_and_Accessories      1            0.433333            1.00000   \n",
       "4  Cell_Phones_and_Accessories      1            0.086667            1.00000   \n",
       "5  Cell_Phones_and_Accessories      1            0.290625            0.78125   \n",
       "\n",
       "  reviews_rating summary_rating  \n",
       "0            pos            pos  \n",
       "1            pos            neu  \n",
       "2            pos            pos  \n",
       "4            pos            pos  \n",
       "5            pos            pos  "
      ]
     },
     "execution_count": 144,
     "metadata": {},
     "output_type": "execute_result"
    }
   ],
   "source": [
    "print(sum(df[df['reviews_rating'] == 'pos']['class'].head(25))/25)# quick check on the rating and we can see that most reviews are fake if they are overtly positive\n",
    "(df[df['reviews_rating'] == 'pos'].head())"
   ]
  },
  {
   "cell_type": "markdown",
   "id": "d2e73aab",
   "metadata": {},
   "source": [
    "vader sentiment: better tool for social media"
   ]
  },
  {
   "cell_type": "code",
   "execution_count": 172,
   "id": "5feff039",
   "metadata": {},
   "outputs": [
    {
     "data": {
      "text/plain": [
       "Text(0.5, 1.0, 'Vader Sentitment review scores')"
      ]
     },
     "execution_count": 172,
     "metadata": {},
     "output_type": "execute_result"
    },
    {
     "data": {
      "image/png": "[encoded data removed]",
      "text/plain": [
       "<Figure size 432x288 with 1 Axes>"
      ]
     },
     "metadata": {
      "needs_background": "light"
     },
     "output_type": "display_data"
    }
   ],
   "source": [
    "sid = SentimentIntensityAnalyzer()\n",
    "\n",
    "def _vader_score(sent):\n",
    "    ss = sid.polarity_scores(sent)# Polarity score returns dictionary\n",
    "    return np.argmax(list(ss.values())[:-1])\n",
    "\n",
    "df['vader_score_review'] =df['reviewText'].map(lambda x: get_vader_score(x))\n",
    "vader_review=df['vader_score_review'].replace({0:'neg',1:'neu',2:'pos'})\n",
    "\n",
    "plt.bar(vader_reviews.value_counts().index,\n",
    "        vader_review.value_counts())\n",
    "plt.xlabel('sentiment score')\n",
    "plt.ylabel('count')\n",
    "plt.title('Vader Sentitment review scores')"
   ]
  },
  {
   "cell_type": "code",
   "execution_count": 173,
   "id": "030aa5a3",
   "metadata": {},
   "outputs": [
    {
     "data": {
      "text/plain": [
       "Text(0.5, 1.0, 'Vader Sentitment summary scores')"
      ]
     },
     "execution_count": 173,
     "metadata": {},
     "output_type": "execute_result"
    },
    {
     "data": {
      "image/png": "[encoded data removed]",
      "text/plain": [
       "<Figure size 432x288 with 1 Axes>"
      ]
     },
     "metadata": {
      "needs_background": "light"
     },
     "output_type": "display_data"
    }
   ],
   "source": [
    "df['vader_score_summary'] =df['summary'].map(lambda x: get_vader_score(x))\n",
    "vader_summary=df['vader_score_summary'].replace({0:'neg',1:'neu',2:'pos'})\n",
    "\n",
    "plt.bar(vader_summary.value_counts().index,\n",
    "        vader_summary.value_counts())\n",
    "plt.xlabel('sentiment score')\n",
    "plt.ylabel('count')\n",
    "plt.title('Vader Sentitment summary scores')"
   ]
  },
  {
   "cell_type": "markdown",
   "id": "a36be070",
   "metadata": {},
   "source": [
    "name entity recognition:\n",
    "\n",
    "spaCy\n",
    "\n",
    "\n",
    "text took too long to load entity detection so we will randomly remove data so that our function will run"
   ]
  },
  {
   "cell_type": "code",
   "execution_count": 5,
   "id": "ea394c39",
   "metadata": {},
   "outputs": [],
   "source": [
    "nlp = en_core_web_sm.load()\n",
    "\n",
    "def entity_detect(text):\n",
    "    document = nlp(text)\n",
    "    return [label.label_ for label in document.ents]"
   ]
  },
  {
   "cell_type": "code",
   "execution_count": 6,
   "id": "5575503d",
   "metadata": {},
   "outputs": [],
   "source": [
    "np.random.seed(10)\n",
    "\n",
    "remove_n = 80000\n",
    "drop_indices = np.random.choice(df.index, remove_n, replace=False)\n",
    "df_subset = df.drop(drop_indices)\n",
    "entity_summary = df_subset['summary'].apply(lambda x: entity_detect(x))\n",
    "entity_summary = [x for word in entity_summary for x in word]"
   ]
  },
  {
   "cell_type": "code",
   "execution_count": 7,
   "id": "3f36ebf0",
   "metadata": {},
   "outputs": [],
   "source": [
    "count = Counter(entity_summary)\n",
    "most_common = count.most_common()"
   ]
  },
  {
   "cell_type": "code",
   "execution_count": 31,
   "id": "bf48da2c",
   "metadata": {},
   "outputs": [
    {
     "data": {
      "text/plain": [
       "Text(0, 0.5, 'entity types')"
      ]
     },
     "execution_count": 31,
     "metadata": {},
     "output_type": "execute_result"
    },
    {
     "data": {
      "image/png": "[encoded data removed]",
      "text/plain": [
       "<Figure size 432x288 with 1 Axes>"
      ]
     },
     "metadata": {
      "needs_background": "light"
     },
     "output_type": "display_data"
    }
   ],
   "source": [
    "x,y=map(list,zip(*most_common))\n",
    "sns.barplot(x=y,y=x)\n",
    "plt.title('Counts of entities')\n",
    "plt.ylabel('entity types')"
   ]
  },
  {
   "cell_type": "code",
   "execution_count": 30,
   "id": "f9743518",
   "metadata": {},
   "outputs": [
    {
     "data": {
      "text/plain": [
       "Text(0, 0.5, 'Cardinal types')"
      ]
     },
     "execution_count": 30,
     "metadata": {},
     "output_type": "execute_result"
    },
    {
     "data": {
      "image/png": "[encoded data removed]",
      "text/plain": [
       "<Figure size 432x288 with 1 Axes>"
      ]
     },
     "metadata": {
      "needs_background": "light"
     },
     "output_type": "display_data"
    }
   ],
   "source": [
    "def entity_name(text, ent = 'CARDINAL'):\n",
    "    document  = nlp(text)\n",
    "    return [label.text for label in document.ents if label.label_ == ent]\n",
    "\n",
    "gpe_summary = df_subset['summary'].apply(lambda x: entity_name(x))\n",
    "gpe_summary = [x for word in gpe_summary for x in word]\n",
    "gpe_summary_count = Counter(gpe_summary)\n",
    "x,y = map(list,zip(*gpe_summary_count.most_common(10)))\n",
    "sns.barplot(x=y , y=x)\n",
    "plt.title('Cardinal Entities')\n",
    "plt.ylabel('Cardinal types')"
   ]
  },
  {
   "cell_type": "code",
   "execution_count": 29,
   "id": "b1426531",
   "metadata": {},
   "outputs": [
    {
     "data": {
      "text/plain": [
       "Text(0, 0.5, 'entity types')"
      ]
     },
     "execution_count": 29,
     "metadata": {},
     "output_type": "execute_result"
    },
    {
     "data": {
      "image/png": "[encoded data removed]",
      "text/plain": [
       "<Figure size 432x288 with 1 Axes>"
      ]
     },
     "metadata": {
      "needs_background": "light"
     },
     "output_type": "display_data"
    }
   ],
   "source": [
    "def entity_name_org(text, ent = 'ORG'):\n",
    "    document  = nlp(text)\n",
    "    return [label.text for label in document.ents if label.label_ == ent]\n",
    "gpe_summary = df_subset['summary'].apply(lambda x: entity_name_org(x))\n",
    "gpe_summary = [x for word in gpe_summary for x in word]\n",
    "gpe_summary_count = Counter(gpe_summary)\n",
    "x,y = map(list,zip(*gpe_summary_count.most_common(10)))\n",
    "sns.barplot(x=y , y=x)\n",
    "plt.title('Organizational Entities')\n",
    "plt.ylabel('entity types')"
   ]
  },
  {
   "cell_type": "code",
   "execution_count": 26,
   "id": "821b3256",
   "metadata": {},
   "outputs": [
    {
     "data": {
      "text/plain": [
       "Text(0, 0.5, 'entity types')"
      ]
     },
     "execution_count": 26,
     "metadata": {},
     "output_type": "execute_result"
    },
    {
     "data": {
      "image/png": "[encoded data removed]",
      "text/plain": [
       "<Figure size 432x288 with 1 Axes>"
      ]
     },
     "metadata": {
      "needs_background": "light"
     },
     "output_type": "display_data"
    }
   ],
   "source": [
    "entity_summary = df_subset['reviewText'].apply(lambda x: entity_detect(x))\n",
    "entity_summary = [x for word in entity_summary for x in word]\n",
    "count = Counter(entity_summary)\n",
    "most_common = count.most_common()\n",
    "x,y=map(list,zip(*most_common))\n",
    "sns.barplot(x=y,y=x)\n",
    "plt.title('Organizational Entities')\n",
    "plt.ylabel('entity types')"
   ]
  },
  {
   "cell_type": "code",
   "execution_count": 27,
   "id": "6b28128b",
   "metadata": {},
   "outputs": [
    {
     "data": {
      "text/plain": [
       "Text(0, 0.5, 'entity types')"
      ]
     },
     "execution_count": 27,
     "metadata": {},
     "output_type": "execute_result"
    },
    {
     "data": {
      "image/png": "[encoded data removed]",
      "text/plain": [
       "<Figure size 432x288 with 1 Axes>"
      ]
     },
     "metadata": {
      "needs_background": "light"
     },
     "output_type": "display_data"
    }
   ],
   "source": [
    "gpe_review = df_subset['reviewText'].apply(lambda x: entity_name(x))\n",
    "gpe_review = [x for word in gpe_review for x in word]\n",
    "gpe_count = Counter(gpe_review)\n",
    "x,y = map(list,zip(*gpe_count.most_common(10)))\n",
    "sns.barplot(x=y , y=x)\n",
    "plt.title('Cardinal Names')\n",
    "plt.ylabel('entity types')"
   ]
  },
  {
   "cell_type": "code",
   "execution_count": 28,
   "id": "ae973a47",
   "metadata": {},
   "outputs": [
    {
     "data": {
      "text/plain": [
       "Text(0, 0.5, 'entity types')"
      ]
     },
     "execution_count": 28,
     "metadata": {},
     "output_type": "execute_result"
    },
    {
     "data": {
      "image/png": "[encoded data removed]",
      "text/plain": [
       "<Figure size 432x288 with 1 Axes>"
      ]
     },
     "metadata": {
      "needs_background": "light"
     },
     "output_type": "display_data"
    }
   ],
   "source": [
    "gpe_review = df_subset['reviewText'].apply(lambda x: entity_name_org(x))\n",
    "gpe_review = [x for word in gpe_review for x in word]\n",
    "gpe_count = Counter(gpe_review)\n",
    "x,y = map(list,zip(*gpe_count.most_common(10)))\n",
    "sns.barplot(x=y , y=x)\n",
    "plt.title('Organizational Names')\n",
    "plt.ylabel('entity types')"
   ]
  },
  {
   "cell_type": "markdown",
   "id": "5e11dc7e",
   "metadata": {},
   "source": [
    "text complexity with flesch_reading_ease\n",
    "\n",
    "0-30 college\n",
    "\n",
    "50-60 high school\n",
    "\n",
    "60+ fourth grade"
   ]
  },
  {
   "cell_type": "code",
   "execution_count": 176,
   "id": "11775287",
   "metadata": {},
   "outputs": [
    {
     "data": {
      "text/plain": [
       "Text(0.5, 1.0, 'Flesch review scores')"
      ]
     },
     "execution_count": 176,
     "metadata": {},
     "output_type": "execute_result"
    },
    {
     "data": {
      "image/png": "[encoded data removed]",
      "text/plain": [
       "<Figure size 432x288 with 1 Axes>"
      ]
     },
     "metadata": {
      "needs_background": "light"
     },
     "output_type": "display_data"
    }
   ],
   "source": [
    "df['reviewText'].apply(lambda x: flesch_reading_ease(x)).hist()\n",
    "plt.xlabel('Flesch score')\n",
    "plt.ylabel('count')\n",
    "plt.title('Flesch review scores')"
   ]
  },
  {
   "cell_type": "code",
   "execution_count": 178,
   "id": "923d2841",
   "metadata": {},
   "outputs": [
    {
     "data": {
      "text/plain": [
       "Text(0.5, 1.0, 'Flesch summary scores')"
      ]
     },
     "execution_count": 178,
     "metadata": {},
     "output_type": "execute_result"
    },
    {
     "data": {
      "image/png": "[encoded data removed]",
      "text/plain": [
       "<Figure size 432x288 with 1 Axes>"
      ]
     },
     "metadata": {
      "needs_background": "light"
     },
     "output_type": "display_data"
    }
   ],
   "source": [
    "df['summary'].apply(lambda x: flesch_reading_ease(x)).hist()\n",
    "plt.xlabel('Flesch score')\n",
    "plt.ylabel('count')\n",
    "plt.title('Flesch summary scores')"
   ]
  },
  {
   "cell_type": "code",
   "execution_count": null,
   "id": "d1afb3a3",
   "metadata": {},
   "outputs": [],
   "source": []
  }
 ],
 "metadata": {
  "kernelspec": {
   "display_name": "Python 3",
   "language": "python",
   "name": "python3"
  },
  "language_info": {
   "codemirror_mode": {
    "name": "ipython",
    "version": 3
   },
   "file_extension": ".py",
   "mimetype": "text/x-python",
   "name": "python",
   "nbconvert_exporter": "python",
   "pygments_lexer": "ipython3",
   "version": "3.8.8"
  }
 },
 "nbformat": 4,
 "nbformat_minor": 5
}
