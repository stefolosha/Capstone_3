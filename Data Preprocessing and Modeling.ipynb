{
 "cells": [
  {
   "cell_type": "code",
   "execution_count": 184,
   "id": "1286cc0d",
   "metadata": {},
   "outputs": [],
   "source": [
    "import pandas as pd\n",
    "import numpy as np\n",
    "import matplotlib.pyplot as plt\n",
    "import nltk\n",
    "from nltk.corpus import stopwords\n",
    "stop=set(stopwords.words('english'))\n",
    "from collections import Counter\n",
    "import seaborn as sns\n",
    "from nltk import punkt, wordnet, word_tokenize\n",
    "from nltk.stem import PorterStemmer,  WordNetLemmatizer \n",
    "from textblob import TextBlob\n",
    "import collections\n",
    "from nltk.sentiment.vader import SentimentIntensityAnalyzer\n",
    "import spacy\n",
    "import en_core_web_sm\n",
    "from textstat import flesch_reading_ease\n",
    "from sklearn.preprocessing import StandardScaler\n",
    "from sklearn.model_selection import train_test_split\n",
    "import warnings\n",
    "warnings.filterwarnings('ignore')"
   ]
  },
  {
   "cell_type": "code",
   "execution_count": 65,
   "id": "69d68a4c",
   "metadata": {},
   "outputs": [],
   "source": [
    "df = pd.read_csv(r'Cell_phone_and_accesory_reviews.csv')"
   ]
  },
  {
   "cell_type": "code",
   "execution_count": 66,
   "id": "e5501e92",
   "metadata": {},
   "outputs": [
    {
     "data": {
      "text/plain": [
       "(85845, 13)"
      ]
     },
     "execution_count": 66,
     "metadata": {},
     "output_type": "execute_result"
    }
   ],
   "source": [
    "df.head()\n",
    "df.shape"
   ]
  },
  {
   "cell_type": "code",
   "execution_count": 67,
   "id": "44447e64",
   "metadata": {},
   "outputs": [
    {
     "data": {
      "text/plain": [
       "(85844, 13)"
      ]
     },
     "execution_count": 67,
     "metadata": {},
     "output_type": "execute_result"
    }
   ],
   "source": [
    "mask = df['summary'].str.len() > 0\n",
    "df = df.loc[mask]\n",
    "df.shape"
   ]
  },
  {
   "cell_type": "markdown",
   "id": "f8a36235",
   "metadata": {},
   "source": [
    "Next we will begin feature engineering"
   ]
  },
  {
   "cell_type": "code",
   "execution_count": 68,
   "id": "7668e9d0",
   "metadata": {},
   "outputs": [],
   "source": [
    "df['summary_char_count'] = df['summary'].str.len()\n",
    "df['review_char_count']= df['reviewText'].str.len()\n",
    "df['review_word_count'] = df['reviewText'].str.split().map(lambda x: len(x))\n",
    "df['summary_word_count'] = df['summary'].str.split().map(lambda x: len(x))"
   ]
  },
  {
   "cell_type": "code",
   "execution_count": 75,
   "id": "007c03d7",
   "metadata": {},
   "outputs": [],
   "source": [
    "corpus=[]\n",
    "split_df= df['reviewText'].str.split()\n",
    "\n",
    "new=split_df.values.tolist()\n",
    "\n",
    "corpus=[word.lower() for i in new for word in i]\n",
    "\n",
    "from collections import defaultdict\n",
    "dic=defaultdict(int)\n",
    "for word in corpus:\n",
    "    if word in stop:\n",
    "        dic[word]+=1"
   ]
  },
  {
   "cell_type": "code",
   "execution_count": 76,
   "id": "410fa506",
   "metadata": {},
   "outputs": [],
   "source": [
    "def stopword(text):\n",
    "    stop=set(stopwords.words('english'))\n",
    "    \n",
    "    new= text.str.split()\n",
    "    new=new.values.tolist()\n",
    "    corpus=[word for i in new for word in i]\n",
    "    from collections import defaultdict\n",
    "    dic=defaultdict(int)\n",
    "    for word in corpus:\n",
    "        if word in stop:\n",
    "            dic[word]+=1\n",
    "            \n",
    "    top=sorted(dic.items(), key=lambda x:x[1],reverse=True)[:10]\n",
    "    return top"
   ]
  },
  {
   "cell_type": "code",
   "execution_count": 79,
   "id": "dad33535",
   "metadata": {},
   "outputs": [
    {
     "name": "stdout",
     "output_type": "stream",
     "text": [
      "[('the', 248502), ('and', 141073), ('to', 125954), ('a', 122654), ('it', 115435), ('is', 88352), ('my', 69149), ('for', 66274), ('of', 61715), ('this', 57481)]\n"
     ]
    }
   ],
   "source": [
    "stopwords_reviews = stopword(df['reviewText'])\n",
    "print(stopwords_reviews)"
   ]
  },
  {
   "cell_type": "code",
   "execution_count": 102,
   "id": "31c1527d",
   "metadata": {},
   "outputs": [
    {
     "name": "stdout",
     "output_type": "stream",
     "text": [
      "['phone', 'case', 'one', 'like', 'great', 'would', 'good', 'screen', 'get', 'use', 'it.', 'love', 'really', 'battery', 'product', 'works', 'phone.', 'iphone']\n"
     ]
    }
   ],
   "source": [
    "counts=Counter(corpus)\n",
    "most=counts.most_common()\n",
    "\n",
    "x,y = [],[]\n",
    "for word,count in most[:70]:\n",
    "    if (word not in stop):\n",
    "        x.append(word)\n",
    "        y.append(count)\n",
    "print(x)"
   ]
  },
  {
   "cell_type": "code",
   "execution_count": 104,
   "id": "d72fe7cd",
   "metadata": {},
   "outputs": [],
   "source": [
    "def sentiment(text):\n",
    "    return TextBlob(text).sentiment.polarity\n",
    "\n",
    "df['sentiments_reviews'] = df['reviewText'].apply(lambda x : sentiment(x))\n",
    "df['sentiment_summary'] = df['summary'].apply(lambda x : sentiment(x))"
   ]
  },
  {
   "cell_type": "code",
   "execution_count": 106,
   "id": "5eeb8e41",
   "metadata": {},
   "outputs": [],
   "source": [
    "def rating(x):\n",
    "    if x<0:\n",
    "        return 'neg'\n",
    "    elif x==0:\n",
    "        return 'neu'\n",
    "    else:\n",
    "        return 'pos'\n",
    "    \n",
    "df['reviews_rating_cat']= df['sentiments_reviews'].map(lambda x: rating(x))\n",
    "df['summary_rating_cat']= df['sentiment_summary'].map(lambda x: rating(x))"
   ]
  },
  {
   "cell_type": "code",
   "execution_count": 108,
   "id": "0af95c16",
   "metadata": {},
   "outputs": [],
   "source": [
    "sid = SentimentIntensityAnalyzer()\n",
    "\n",
    "def get_vader_score(sent):\n",
    "    ss = sid.polarity_scores(sent)# Polarity score returns dictionary\n",
    "    return np.argmax(list(ss.values())[:-1])\n",
    "\n",
    "df['vader_score_review'] =df['reviewText'].map(lambda x: get_vader_score(x))\n",
    "df['vader_score_summary'] =df['summary'].map(lambda x: get_vader_score(x))"
   ]
  },
  {
   "cell_type": "code",
   "execution_count": 122,
   "id": "bd59cb19",
   "metadata": {},
   "outputs": [],
   "source": [
    "df['vader_score_review'] = df['vader_score_review'].replace({0:'neg',1:'neu',2:'pos'})\n",
    "df['vader_score_summary'] = df['vader_score_summary'].replace({0:'neg',1:'neu',2:'pos'})"
   ]
  },
  {
   "cell_type": "code",
   "execution_count": 109,
   "id": "9a258c62",
   "metadata": {},
   "outputs": [],
   "source": [
    "df['review_ease_of_reading'] = df['reviewText'].apply(lambda x: flesch_reading_ease(x))\n",
    "df['summar_ease_of_reading'] = df['summary'].apply(lambda x: flesch_reading_ease(x))"
   ]
  },
  {
   "cell_type": "code",
   "execution_count": 129,
   "id": "20e30611",
   "metadata": {},
   "outputs": [
    {
     "data": {
      "text/html": [
       "<div>\n",
       "<style scoped>\n",
       "    .dataframe tbody tr th:only-of-type {\n",
       "        vertical-align: middle;\n",
       "    }\n",
       "\n",
       "    .dataframe tbody tr th {\n",
       "        vertical-align: top;\n",
       "    }\n",
       "\n",
       "    .dataframe thead th {\n",
       "        text-align: right;\n",
       "    }\n",
       "</style>\n",
       "<table border=\"1\" class=\"dataframe\">\n",
       "  <thead>\n",
       "    <tr style=\"text-align: right;\">\n",
       "      <th></th>\n",
       "      <th>class</th>\n",
       "      <th>summary_char_count</th>\n",
       "      <th>review_char_count</th>\n",
       "      <th>review_word_count</th>\n",
       "      <th>summary_word_count</th>\n",
       "      <th>sentiments_reviews</th>\n",
       "      <th>sentiment_summary</th>\n",
       "      <th>reviews_rating_cat</th>\n",
       "      <th>summary_rating_cat</th>\n",
       "      <th>vader_score_review</th>\n",
       "      <th>vader_score_summary</th>\n",
       "      <th>review_ease_of_reading</th>\n",
       "      <th>summar_ease_of_reading</th>\n",
       "    </tr>\n",
       "  </thead>\n",
       "  <tbody>\n",
       "    <tr>\n",
       "      <th>0</th>\n",
       "      <td>1</td>\n",
       "      <td>13</td>\n",
       "      <td>101</td>\n",
       "      <td>21</td>\n",
       "      <td>2</td>\n",
       "      <td>0.570000</td>\n",
       "      <td>0.800</td>\n",
       "      <td>pos</td>\n",
       "      <td>pos</td>\n",
       "      <td>neu</td>\n",
       "      <td>pos</td>\n",
       "      <td>103.12</td>\n",
       "      <td>77.91</td>\n",
       "    </tr>\n",
       "    <tr>\n",
       "      <th>1</th>\n",
       "      <td>0</td>\n",
       "      <td>15</td>\n",
       "      <td>215</td>\n",
       "      <td>42</td>\n",
       "      <td>4</td>\n",
       "      <td>0.090741</td>\n",
       "      <td>0.000</td>\n",
       "      <td>pos</td>\n",
       "      <td>neu</td>\n",
       "      <td>neu</td>\n",
       "      <td>neu</td>\n",
       "      <td>94.66</td>\n",
       "      <td>118.18</td>\n",
       "    </tr>\n",
       "    <tr>\n",
       "      <th>2</th>\n",
       "      <td>1</td>\n",
       "      <td>17</td>\n",
       "      <td>109</td>\n",
       "      <td>25</td>\n",
       "      <td>4</td>\n",
       "      <td>0.433333</td>\n",
       "      <td>1.000</td>\n",
       "      <td>pos</td>\n",
       "      <td>pos</td>\n",
       "      <td>neu</td>\n",
       "      <td>neg</td>\n",
       "      <td>88.40</td>\n",
       "      <td>118.18</td>\n",
       "    </tr>\n",
       "    <tr>\n",
       "      <th>3</th>\n",
       "      <td>0</td>\n",
       "      <td>25</td>\n",
       "      <td>235</td>\n",
       "      <td>43</td>\n",
       "      <td>5</td>\n",
       "      <td>-0.062500</td>\n",
       "      <td>0.000</td>\n",
       "      <td>neg</td>\n",
       "      <td>neu</td>\n",
       "      <td>neu</td>\n",
       "      <td>neu</td>\n",
       "      <td>82.34</td>\n",
       "      <td>100.24</td>\n",
       "    </tr>\n",
       "    <tr>\n",
       "      <th>4</th>\n",
       "      <td>1</td>\n",
       "      <td>6</td>\n",
       "      <td>108</td>\n",
       "      <td>23</td>\n",
       "      <td>1</td>\n",
       "      <td>0.086667</td>\n",
       "      <td>1.000</td>\n",
       "      <td>pos</td>\n",
       "      <td>pos</td>\n",
       "      <td>neu</td>\n",
       "      <td>pos</td>\n",
       "      <td>81.97</td>\n",
       "      <td>121.22</td>\n",
       "    </tr>\n",
       "    <tr>\n",
       "      <th>...</th>\n",
       "      <td>...</td>\n",
       "      <td>...</td>\n",
       "      <td>...</td>\n",
       "      <td>...</td>\n",
       "      <td>...</td>\n",
       "      <td>...</td>\n",
       "      <td>...</td>\n",
       "      <td>...</td>\n",
       "      <td>...</td>\n",
       "      <td>...</td>\n",
       "      <td>...</td>\n",
       "      <td>...</td>\n",
       "      <td>...</td>\n",
       "    </tr>\n",
       "    <tr>\n",
       "      <th>85840</th>\n",
       "      <td>1</td>\n",
       "      <td>5</td>\n",
       "      <td>124</td>\n",
       "      <td>23</td>\n",
       "      <td>1</td>\n",
       "      <td>0.308939</td>\n",
       "      <td>0.000</td>\n",
       "      <td>pos</td>\n",
       "      <td>neu</td>\n",
       "      <td>neu</td>\n",
       "      <td>neu</td>\n",
       "      <td>105.96</td>\n",
       "      <td>121.22</td>\n",
       "    </tr>\n",
       "    <tr>\n",
       "      <th>85841</th>\n",
       "      <td>1</td>\n",
       "      <td>26</td>\n",
       "      <td>255</td>\n",
       "      <td>50</td>\n",
       "      <td>5</td>\n",
       "      <td>0.138000</td>\n",
       "      <td>0.600</td>\n",
       "      <td>pos</td>\n",
       "      <td>pos</td>\n",
       "      <td>neu</td>\n",
       "      <td>neu</td>\n",
       "      <td>101.09</td>\n",
       "      <td>100.24</td>\n",
       "    </tr>\n",
       "    <tr>\n",
       "      <th>85842</th>\n",
       "      <td>1</td>\n",
       "      <td>10</td>\n",
       "      <td>33</td>\n",
       "      <td>5</td>\n",
       "      <td>2</td>\n",
       "      <td>0.475000</td>\n",
       "      <td>0.000</td>\n",
       "      <td>pos</td>\n",
       "      <td>neu</td>\n",
       "      <td>pos</td>\n",
       "      <td>neu</td>\n",
       "      <td>49.48</td>\n",
       "      <td>120.21</td>\n",
       "    </tr>\n",
       "    <tr>\n",
       "      <th>85843</th>\n",
       "      <td>1</td>\n",
       "      <td>57</td>\n",
       "      <td>140</td>\n",
       "      <td>27</td>\n",
       "      <td>10</td>\n",
       "      <td>0.625000</td>\n",
       "      <td>0.425</td>\n",
       "      <td>pos</td>\n",
       "      <td>pos</td>\n",
       "      <td>neu</td>\n",
       "      <td>neu</td>\n",
       "      <td>60.99</td>\n",
       "      <td>61.33</td>\n",
       "    </tr>\n",
       "    <tr>\n",
       "      <th>85844</th>\n",
       "      <td>1</td>\n",
       "      <td>61</td>\n",
       "      <td>153</td>\n",
       "      <td>24</td>\n",
       "      <td>10</td>\n",
       "      <td>0.556250</td>\n",
       "      <td>1.000</td>\n",
       "      <td>pos</td>\n",
       "      <td>pos</td>\n",
       "      <td>neu</td>\n",
       "      <td>neu</td>\n",
       "      <td>46.44</td>\n",
       "      <td>49.48</td>\n",
       "    </tr>\n",
       "  </tbody>\n",
       "</table>\n",
       "<p>85844 rows × 13 columns</p>\n",
       "</div>"
      ],
      "text/plain": [
       "       class  summary_char_count  review_char_count  review_word_count  \\\n",
       "0          1                  13                101                 21   \n",
       "1          0                  15                215                 42   \n",
       "2          1                  17                109                 25   \n",
       "3          0                  25                235                 43   \n",
       "4          1                   6                108                 23   \n",
       "...      ...                 ...                ...                ...   \n",
       "85840      1                   5                124                 23   \n",
       "85841      1                  26                255                 50   \n",
       "85842      1                  10                 33                  5   \n",
       "85843      1                  57                140                 27   \n",
       "85844      1                  61                153                 24   \n",
       "\n",
       "       summary_word_count  sentiments_reviews  sentiment_summary  \\\n",
       "0                       2            0.570000              0.800   \n",
       "1                       4            0.090741              0.000   \n",
       "2                       4            0.433333              1.000   \n",
       "3                       5           -0.062500              0.000   \n",
       "4                       1            0.086667              1.000   \n",
       "...                   ...                 ...                ...   \n",
       "85840                   1            0.308939              0.000   \n",
       "85841                   5            0.138000              0.600   \n",
       "85842                   2            0.475000              0.000   \n",
       "85843                  10            0.625000              0.425   \n",
       "85844                  10            0.556250              1.000   \n",
       "\n",
       "      reviews_rating_cat summary_rating_cat vader_score_review  \\\n",
       "0                    pos                pos                neu   \n",
       "1                    pos                neu                neu   \n",
       "2                    pos                pos                neu   \n",
       "3                    neg                neu                neu   \n",
       "4                    pos                pos                neu   \n",
       "...                  ...                ...                ...   \n",
       "85840                pos                neu                neu   \n",
       "85841                pos                pos                neu   \n",
       "85842                pos                neu                pos   \n",
       "85843                pos                pos                neu   \n",
       "85844                pos                pos                neu   \n",
       "\n",
       "      vader_score_summary  review_ease_of_reading  summar_ease_of_reading  \n",
       "0                     pos                  103.12                   77.91  \n",
       "1                     neu                   94.66                  118.18  \n",
       "2                     neg                   88.40                  118.18  \n",
       "3                     neu                   82.34                  100.24  \n",
       "4                     pos                   81.97                  121.22  \n",
       "...                   ...                     ...                     ...  \n",
       "85840                 neu                  105.96                  121.22  \n",
       "85841                 neu                  101.09                  100.24  \n",
       "85842                 neu                   49.48                  120.21  \n",
       "85843                 neu                   60.99                   61.33  \n",
       "85844                 neu                   46.44                   49.48  \n",
       "\n",
       "[85844 rows x 13 columns]"
      ]
     },
     "execution_count": 129,
     "metadata": {},
     "output_type": "execute_result"
    }
   ],
   "source": [
    "df_attributes"
   ]
  },
  {
   "cell_type": "code",
   "execution_count": 124,
   "id": "0c88219e",
   "metadata": {},
   "outputs": [],
   "source": [
    "df_attributes = df[['class', 'summary_char_count', 'review_char_count',\n",
    "       'review_word_count', 'summary_word_count', 'sentiments_reviews',\n",
    "       'sentiment_summary', 'reviews_rating_cat', 'summary_rating_cat',\n",
    "       'vader_score_review', 'vader_score_summary', 'review_ease_of_reading',\n",
    "       'summar_ease_of_reading']]"
   ]
  },
  {
   "cell_type": "code",
   "execution_count": 159,
   "id": "cddfe5ed",
   "metadata": {},
   "outputs": [],
   "source": [
    "df_attributes_num =  df[['summary_char_count', 'review_char_count',\n",
    "       'review_word_count', 'summary_word_count','sentiments_reviews',\n",
    "       'sentiment_summary','review_ease_of_reading','summar_ease_of_reading']]\n",
    "scale  = StandardScaler()\n",
    "df_scaled = scale.fit_transform(df_attributes_num)\n",
    "df_scaled = pd.DataFrame(df_scaled)\n",
    "df_scaled.columns = ['summary_char_count', 'review_char_count',\n",
    "       'review_word_count', 'summary_word_count','sentiments_reviews',\n",
    "       'sentiment_summary','review_ease_of_reading','summar_ease_of_reading']\n",
    "\n",
    "dfo = df[['reviews_rating_cat', 'summary_rating_cat','vader_score_review', 'vader_score_summary']]\n",
    "\n",
    "df2 = pd.concat([df_scaled, pd.get_dummies(dfo)], axis=1)\n",
    "df2 = pd.concat([df2, df['class']], axis=1)"
   ]
  },
  {
   "cell_type": "code",
   "execution_count": 160,
   "id": "926a4c34",
   "metadata": {},
   "outputs": [
    {
     "data": {
      "text/plain": [
       "summary_char_count         1\n",
       "review_char_count          1\n",
       "review_word_count          1\n",
       "summary_word_count         1\n",
       "sentiments_reviews         1\n",
       "sentiment_summary          1\n",
       "review_ease_of_reading     1\n",
       "summar_ease_of_reading     1\n",
       "reviews_rating_cat_neg     1\n",
       "reviews_rating_cat_neu     1\n",
       "reviews_rating_cat_pos     1\n",
       "summary_rating_cat_neg     1\n",
       "summary_rating_cat_neu     1\n",
       "summary_rating_cat_pos     1\n",
       "vader_score_review_neg     1\n",
       "vader_score_review_neu     1\n",
       "vader_score_review_pos     1\n",
       "vader_score_summary_neg    1\n",
       "vader_score_summary_neu    1\n",
       "vader_score_summary_pos    1\n",
       "class                      1\n",
       "dtype: int64"
      ]
     },
     "execution_count": 160,
     "metadata": {},
     "output_type": "execute_result"
    }
   ],
   "source": [
    "df2.isnull().sum()"
   ]
  },
  {
   "cell_type": "code",
   "execution_count": 161,
   "id": "1fe4e444",
   "metadata": {},
   "outputs": [],
   "source": [
    "df2.dropna(inplace=True)"
   ]
  },
  {
   "cell_type": "code",
   "execution_count": 162,
   "id": "fef84678",
   "metadata": {},
   "outputs": [],
   "source": [
    "df2.to_pickle(r'C:\\Users\\User\\Spam_reviews_preprocessed.pkl')"
   ]
  },
  {
   "cell_type": "code",
   "execution_count": 163,
   "id": "88b940c0",
   "metadata": {},
   "outputs": [],
   "source": [
    "X = df2.drop(columns = ['class'])\n",
    "y = df2['class']"
   ]
  },
  {
   "cell_type": "code",
   "execution_count": 167,
   "id": "733853b5",
   "metadata": {},
   "outputs": [],
   "source": [
    "X_train, X_test, y_train, y_test = train_test_split(X, y, test_size=0.3, random_state=42)"
   ]
  },
  {
   "cell_type": "markdown",
   "id": "d5f8a7fd",
   "metadata": {},
   "source": [
    "Model Selection\n",
    "\n",
    "Since the dependent variable is a yes/no answer. We will need to use models that are good at categorization. Specifically we want models that are good at binary classification. In this case we will use Naive Bayes, Random Forest, and Logistic Regression"
   ]
  },
  {
   "cell_type": "code",
   "execution_count": 169,
   "id": "d775ebed",
   "metadata": {},
   "outputs": [],
   "source": [
    "from sklearn.linear_model import LogisticRegression\n",
    "Logreg = LogisticRegression(penalty = 'l2', C = .1,random_state = 40)\n",
    "Logreg.fit(X_train,y_train)\n",
    "y_pred_lr = Logreg.predict(X_test)"
   ]
  },
  {
   "cell_type": "code",
   "execution_count": 170,
   "id": "145d5588",
   "metadata": {},
   "outputs": [
    {
     "name": "stdout",
     "output_type": "stream",
     "text": [
      "[[ 3946  3584]\n",
      " [ 1177 17046]]\n",
      "0.8151283345629635\n"
     ]
    }
   ],
   "source": [
    "from sklearn.metrics import confusion_matrix\n",
    "\n",
    "cnf_matrix= confusion_matrix(y_test,y_pred_lr)\n",
    "print(cnf_matrix)\n",
    "Accuracy_lr=Logreg.score(X_test,y_test)\n",
    "\n",
    "print(Accuracy_lr)"
   ]
  },
  {
   "cell_type": "code",
   "execution_count": 172,
   "id": "49321195",
   "metadata": {},
   "outputs": [
    {
     "name": "stdout",
     "output_type": "stream",
     "text": [
      "precision: 0.8262724188075617\n",
      "recall: 0.9354112934204027\n",
      "fscore: 0.877461199907343\n",
      "support: None\n"
     ]
    }
   ],
   "source": [
    "from sklearn.metrics import precision_recall_fscore_support\n",
    "precision, recall, fscore, support = precision_recall_fscore_support(y_test, y_pred_lr, average='binary')\n",
    "print('precision:', precision )\n",
    "print('recall:',recall)\n",
    "print('fscore:', fscore)\n",
    "print('support:',support)"
   ]
  },
  {
   "cell_type": "code",
   "execution_count": 185,
   "id": "674465ea",
   "metadata": {},
   "outputs": [
    {
     "name": "stdout",
     "output_type": "stream",
     "text": [
      "[0.84346309 0.83468322 0.82538397 0.84539039 0.83804327]\n",
      "Mean cross validation test score: 0.8373927882834531\n",
      "Mean cross validation train score: 0.8367122224005843\n",
      "Standard deviation in cv scores: 0.007110371573041446\n"
     ]
    }
   ],
   "source": [
    "\n",
    "from sklearn.model_selection import cross_val_score\n",
    "\n",
    "cv_scores_test= cross_val_score(Logreg,X_test,y_test,cv=5,scoring='roc_auc')\n",
    "cv_scores_train= cross_val_score(Logreg,X_train,y_train,cv=5,scoring='roc_auc')\n",
    "print(cv_scores_test)\n",
    "cv_scores_log_test= cv_scores_test.mean()\n",
    "cv_scores_log_train= cv_scores_train.mean()\n",
    "cv_scores_std_log= cv_scores_test.std()\n",
    "print ('Mean cross validation test score: ' +str(cv_scores_log_test))\n",
    "print ('Mean cross validation train score: ' +str(cv_scores_log_train))\n",
    "print ('Standard deviation in cv scores: ' +str(cv_scores_std_log))"
   ]
  },
  {
   "cell_type": "code",
   "execution_count": 183,
   "id": "470baff7",
   "metadata": {},
   "outputs": [],
   "source": [
    "from sklearn.naive_bayes import GaussianNB\n",
    "model = GaussianNB()\n",
    "model.fit(X_train,y_train)\n",
    "y_pred_NB = model.predict(X_test)"
   ]
  },
  {
   "cell_type": "code",
   "execution_count": 177,
   "id": "6197bfed",
   "metadata": {},
   "outputs": [
    {
     "name": "stdout",
     "output_type": "stream",
     "text": [
      "[[ 4166  3364]\n",
      " [ 1881 16342]]\n",
      "0.7963344076418282\n"
     ]
    }
   ],
   "source": [
    "cnf_matrix= confusion_matrix(y_test,y_pred_NB)\n",
    "print(cnf_matrix)\n",
    "Accuracy_NB= model.score(X_test,y_test)\n",
    "\n",
    "print(Accuracy_NB)"
   ]
  },
  {
   "cell_type": "code",
   "execution_count": 178,
   "id": "32522a10",
   "metadata": {},
   "outputs": [
    {
     "name": "stdout",
     "output_type": "stream",
     "text": [
      "precision: 0.8292905713995737\n",
      "recall: 0.8967787960269988\n",
      "fscore: 0.861715310184819\n",
      "support: None\n"
     ]
    }
   ],
   "source": [
    "precision, recall, fscore, support = precision_recall_fscore_support(y_test, y_pred_NB, average='binary')\n",
    "print('precision:', precision )\n",
    "print('recall:',recall)\n",
    "print('fscore:', fscore)\n",
    "print('support:',support)"
   ]
  },
  {
   "cell_type": "code",
   "execution_count": 187,
   "id": "5ecaac42",
   "metadata": {},
   "outputs": [
    {
     "name": "stdout",
     "output_type": "stream",
     "text": [
      "[0.83304869 0.82379299 0.8164569  0.83500311 0.82954361]\n",
      "Mean cross validation test score: 0.8275690582837214\n",
      "Mean cross validation train score: 0.8295083604044435\n",
      "Standard deviation in cv scores: 0.006736901074798521\n"
     ]
    }
   ],
   "source": [
    "cv_scores_test= cross_val_score(model,X_test,y_test,cv=5,scoring='roc_auc')\n",
    "cv_scores_train= cross_val_score(model,X_train,y_train,cv=5,scoring='roc_auc')\n",
    "print(cv_scores_test)\n",
    "cv_scores_NB_test= cv_scores_test.mean()\n",
    "cv_scores_NB_train= cv_scores_train.mean()\n",
    "cv_scores_std_NB =  cv_scores_test.std()\n",
    "print ('Mean cross validation test score: ' +str(cv_scores_NB_test))\n",
    "print ('Mean cross validation train score: ' +str(cv_scores_NB_train))\n",
    "print ('Standard deviation in cv scores: ' +str(cv_scores_std_NB))"
   ]
  },
  {
   "cell_type": "code",
   "execution_count": 179,
   "id": "1ffb441a",
   "metadata": {},
   "outputs": [],
   "source": [
    "\n",
    "from sklearn.ensemble import RandomForestClassifier\n",
    "rf = RandomForestClassifier(bootstrap=True,n_estimators=20,criterion='entropy', random_state =1)\n",
    "rf.fit(X_train, y_train)\n",
    "y_predict_rf = rf.predict(X_test)"
   ]
  },
  {
   "cell_type": "code",
   "execution_count": 180,
   "id": "557df5da",
   "metadata": {},
   "outputs": [
    {
     "name": "stdout",
     "output_type": "stream",
     "text": [
      "[[ 4114  3416]\n",
      " [ 1923 16300]]\n",
      "0.7926843474546654\n"
     ]
    }
   ],
   "source": [
    "cnf_matrix = confusion_matrix(y_test, y_predict_rf)\n",
    "print(cnf_matrix)\n",
    "Accuracy_rf=rf.score(X_test,y_test)\n",
    "print(Accuracy_rf)"
   ]
  },
  {
   "cell_type": "code",
   "execution_count": 181,
   "id": "9bb170c0",
   "metadata": {},
   "outputs": [
    {
     "name": "stdout",
     "output_type": "stream",
     "text": [
      "precision: 0.826739703793873\n",
      "recall: 0.8944740163529605\n",
      "fscore: 0.8592740978939878\n",
      "support: None\n"
     ]
    }
   ],
   "source": [
    "precision, recall, fscore, support = precision_recall_fscore_support(y_test, y_predict_rf, average='binary')\n",
    "print('precision:', precision )\n",
    "print('recall:',recall)\n",
    "print('fscore:', fscore)\n",
    "print('support:',support)"
   ]
  },
  {
   "cell_type": "code",
   "execution_count": 186,
   "id": "c6f70705",
   "metadata": {},
   "outputs": [
    {
     "name": "stdout",
     "output_type": "stream",
     "text": [
      "[0.82085932 0.80894401 0.80279896 0.8188758  0.81521016]\n",
      "Mean cross validation test score: 0.8133376483440632\n",
      "Mean cross validation train score: 0.8135579322931774\n",
      "Standard deviation in cv scores: 0.006650126926531699\n"
     ]
    }
   ],
   "source": [
    "cv_scores_test= cross_val_score(rf,X_test,y_test,cv=5,scoring='roc_auc')\n",
    "cv_scores_train= cross_val_score(rf,X_train,y_train,cv=5,scoring='roc_auc')\n",
    "print(cv_scores_test)\n",
    "cv_scores_rf_test= cv_scores_test.mean()\n",
    "cv_scores_rf_train= cv_scores_train.mean()\n",
    "cv_scores_std_rf= cv_scores_test.std()\n",
    "print ('Mean cross validation test score: ' +str(cv_scores_rf_test))\n",
    "print ('Mean cross validation train score: ' +str(cv_scores_rf_train))\n",
    "print ('Standard deviation in cv scores: ' +str(cv_scores_std_rf))"
   ]
  },
  {
   "cell_type": "code",
   "execution_count": 188,
   "id": "a14569d1",
   "metadata": {},
   "outputs": [
    {
     "name": "stdout",
     "output_type": "stream",
     "text": [
      "             Algorithm  Model accuracy score\n",
      "0        Random Forest              0.792684\n",
      "1          Naive Bayes              0.796334\n",
      "2  Logistic Regression              0.815128\n"
     ]
    },
    {
     "data": {
      "text/html": [
       "<div>\n",
       "<style scoped>\n",
       "    .dataframe tbody tr th:only-of-type {\n",
       "        vertical-align: middle;\n",
       "    }\n",
       "\n",
       "    .dataframe tbody tr th {\n",
       "        vertical-align: top;\n",
       "    }\n",
       "\n",
       "    .dataframe thead th {\n",
       "        text-align: right;\n",
       "    }\n",
       "</style>\n",
       "<table border=\"1\" class=\"dataframe\">\n",
       "  <thead>\n",
       "    <tr style=\"text-align: right;\">\n",
       "      <th></th>\n",
       "      <th>Algorithm</th>\n",
       "      <th>ROC-AUC train score</th>\n",
       "      <th>ROC-AUC test score</th>\n",
       "    </tr>\n",
       "  </thead>\n",
       "  <tbody>\n",
       "    <tr>\n",
       "      <th>0</th>\n",
       "      <td>Random Forest</td>\n",
       "      <td>0.813558</td>\n",
       "      <td>0.813338</td>\n",
       "    </tr>\n",
       "    <tr>\n",
       "      <th>1</th>\n",
       "      <td>Naive Bayes</td>\n",
       "      <td>0.829508</td>\n",
       "      <td>0.827569</td>\n",
       "    </tr>\n",
       "    <tr>\n",
       "      <th>2</th>\n",
       "      <td>Logistic Regression</td>\n",
       "      <td>0.836712</td>\n",
       "      <td>0.837393</td>\n",
       "    </tr>\n",
       "  </tbody>\n",
       "</table>\n",
       "</div>"
      ],
      "text/plain": [
       "             Algorithm  ROC-AUC train score  ROC-AUC test score\n",
       "0        Random Forest             0.813558            0.813338\n",
       "1          Naive Bayes             0.829508            0.827569\n",
       "2  Logistic Regression             0.836712            0.837393"
      ]
     },
     "execution_count": 188,
     "metadata": {},
     "output_type": "execute_result"
    }
   ],
   "source": [
    "myLabels = ['Random Forest','Naive Bayes','Logistic Regression']\n",
    "Accuracy_score = [Accuracy_rf, Accuracy_NB, Accuracy_lr]\n",
    "score_test = [cv_scores_rf_test, cv_scores_NB_test, cv_scores_log_test]\n",
    "score_train= [ cv_scores_rf_train, cv_scores_NB_train, cv_scores_log_train]\n",
    "score_tab_accuracy = pd.DataFrame(list(zip(myLabels, Accuracy_score)), \n",
    "               columns =['Algorithm', 'Model accuracy score']) \n",
    "\n",
    "print(score_tab_accuracy)\n",
    "roc_score = pd.DataFrame(list(zip(myLabels, score_train, score_test)), \n",
    "                         columns =['Algorithm', 'ROC-AUC train score', 'ROC-AUC test score' ]) \n",
    "roc_score"
   ]
  },
  {
   "cell_type": "markdown",
   "id": "8d915320",
   "metadata": {},
   "source": [
    "As we can see with just simple implementation of the machine learning models we are able to receive about an 80% ROC test and train score"
   ]
  },
  {
   "cell_type": "markdown",
   "id": "61e731a0",
   "metadata": {},
   "source": [
    "Now we will try to get our models to be more accurate with hyperparameter tuning"
   ]
  },
  {
   "cell_type": "code",
   "execution_count": 190,
   "id": "b28421b6",
   "metadata": {},
   "outputs": [
    {
     "name": "stdout",
     "output_type": "stream",
     "text": [
      "RandomForestClassifier(min_samples_leaf=10, n_estimators=20, n_jobs=-1,\n",
      "                       random_state=1)\n",
      "0.811266433682809\n"
     ]
    }
   ],
   "source": [
    "from sklearn.model_selection import GridSearchCV\n",
    "rf = RandomForestClassifier(max_features='auto',random_state=1, n_jobs=-1)\n",
    "\n",
    "param_grid = { \"criterion\" : [\"gini\", \"entropy\"], \"min_samples_leaf\" : [1, 5, 10], \"min_samples_split\" : [2,8,16], \"n_estimators\": [10,15,20]}\n",
    "\n",
    "rs = GridSearchCV(estimator=rf, param_grid=param_grid, scoring='accuracy', cv=3, n_jobs=-1)\n",
    "\n",
    "rs = rs.fit(X_train, y_train)\n",
    "\n",
    "print(rs.best_estimator_) \n",
    "print(rs.best_score_)"
   ]
  },
  {
   "cell_type": "code",
   "execution_count": 191,
   "id": "1b049ab4",
   "metadata": {},
   "outputs": [],
   "source": [
    "from sklearn.ensemble import RandomForestClassifier\n",
    "rf = RandomForestClassifier(bootstrap=True,n_estimators=20,criterion='entropy',min_samples_leaf =10, n_jobs =-1, random_state =1)\n",
    "rf.fit(X_train, y_train)\n",
    "y_predict_rf = rf.predict(X_test)"
   ]
  },
  {
   "cell_type": "code",
   "execution_count": 192,
   "id": "8786d630",
   "metadata": {},
   "outputs": [
    {
     "name": "stdout",
     "output_type": "stream",
     "text": [
      "[[ 3907  3623]\n",
      " [ 1153 17070]]\n",
      "0.8145458781501185\n"
     ]
    }
   ],
   "source": [
    "cnf_matrix = confusion_matrix(y_test, y_predict_rf)\n",
    "print(cnf_matrix)\n",
    "Accuracy_rf=rf.score(X_test,y_test)\n",
    "print(Accuracy_rf)"
   ]
  },
  {
   "cell_type": "code",
   "execution_count": 193,
   "id": "739b84c3",
   "metadata": {},
   "outputs": [
    {
     "name": "stdout",
     "output_type": "stream",
     "text": [
      "precision: 0.8249166384767795\n",
      "recall: 0.9367283103769961\n",
      "fscore: 0.8772741288930004\n",
      "support: None\n"
     ]
    }
   ],
   "source": [
    "precision, recall, fscore, support = precision_recall_fscore_support(y_test, y_predict_rf, average='binary')\n",
    "print('precision:', precision )\n",
    "print('recall:',recall)\n",
    "print('fscore:', fscore)\n",
    "print('support:',support)"
   ]
  },
  {
   "cell_type": "code",
   "execution_count": 194,
   "id": "592a75f3",
   "metadata": {},
   "outputs": [
    {
     "name": "stdout",
     "output_type": "stream",
     "text": [
      "[0.84035518 0.83223831 0.82327216 0.83637104 0.83545374]\n",
      "Mean cross validation test score: 0.8335380842651148\n",
      "Mean cross validation train score: 0.8328390806479277\n",
      "Standard deviation in cv scores: 0.005748855845281771\n"
     ]
    }
   ],
   "source": [
    "cv_scores_test= cross_val_score(rf,X_test,y_test,cv=5,scoring='roc_auc')\n",
    "cv_scores_train= cross_val_score(rf,X_train,y_train,cv=5,scoring='roc_auc')\n",
    "print(cv_scores_test)\n",
    "cv_scores_rf_test= cv_scores_test.mean()\n",
    "cv_scores_rf_train= cv_scores_train.mean()\n",
    "cv_scores_std_rf= cv_scores_test.std()\n",
    "print ('Mean cross validation test score: ' +str(cv_scores_rf_test))\n",
    "print ('Mean cross validation train score: ' +str(cv_scores_rf_train))\n",
    "print ('Standard deviation in cv scores: ' +str(cv_scores_std_rf))"
   ]
  },
  {
   "cell_type": "code",
   "execution_count": 195,
   "id": "c990a668",
   "metadata": {},
   "outputs": [
    {
     "name": "stdout",
     "output_type": "stream",
     "text": [
      "LogisticRegression(C=0.01, random_state=40)\n",
      "0.8125977700116492\n"
     ]
    }
   ],
   "source": [
    "\n",
    "param_grid = {'C': [0.001, 0.01, 0.1, 1, 10, 100, 1000] }\n",
    "logreg = LogisticRegression(penalty = 'l2',random_state = 40)\n",
    "rs3 = GridSearchCV(estimator= logreg,param_grid = param_grid, scoring= 'accuracy', cv=3, n_jobs =-1 )\n",
    "\n",
    "rs3 = rs3.fit(X_train, y_train)\n",
    "print(rs3.best_estimator_)\n",
    "print(rs3.best_score_)"
   ]
  },
  {
   "cell_type": "code",
   "execution_count": 196,
   "id": "1b42b573",
   "metadata": {},
   "outputs": [],
   "source": [
    "Logreg = LogisticRegression(penalty = 'l2', C = .01,random_state = 40)\n",
    "Logreg.fit(X_train,y_train)\n",
    "y_pred_lr = Logreg.predict(X_test)"
   ]
  },
  {
   "cell_type": "code",
   "execution_count": 197,
   "id": "7ebc95e7",
   "metadata": {},
   "outputs": [
    {
     "name": "stdout",
     "output_type": "stream",
     "text": [
      "[[ 3943  3587]\n",
      " [ 1174 17049]]\n",
      "0.8151283345629635\n"
     ]
    }
   ],
   "source": [
    "cnf_matrix= confusion_matrix(y_test,y_pred_lr)\n",
    "print(cnf_matrix)\n",
    "Accuracy_lr=Logreg.score(X_test,y_test)\n",
    "\n",
    "print(Accuracy_lr)"
   ]
  },
  {
   "cell_type": "code",
   "execution_count": 198,
   "id": "091dd147",
   "metadata": {},
   "outputs": [
    {
     "name": "stdout",
     "output_type": "stream",
     "text": [
      "precision: 0.8261775537894941\n",
      "recall: 0.935575920539977\n",
      "fscore: 0.8774801204354203\n",
      "support: None\n"
     ]
    }
   ],
   "source": [
    "from sklearn.metrics import precision_recall_fscore_support\n",
    "precision, recall, fscore, support = precision_recall_fscore_support(y_test, y_pred_lr, average='binary')\n",
    "print('precision:', precision )\n",
    "print('recall:',recall)\n",
    "print('fscore:', fscore)\n",
    "print('support:',support)"
   ]
  },
  {
   "cell_type": "code",
   "execution_count": 199,
   "id": "59233261",
   "metadata": {},
   "outputs": [
    {
     "name": "stdout",
     "output_type": "stream",
     "text": [
      "[0.84301896 0.83446552 0.82396905 0.84421033 0.83693701]\n",
      "Mean cross validation test score: 0.8365201765559037\n",
      "Mean cross validation train score: 0.8363466573559941\n",
      "Standard deviation in cv scores: 0.007256704457439789\n"
     ]
    }
   ],
   "source": [
    "cv_scores_test= cross_val_score(Logreg,X_test,y_test,cv=5,scoring='roc_auc')\n",
    "cv_scores_train= cross_val_score(Logreg,X_train,y_train,cv=5,scoring='roc_auc')\n",
    "print(cv_scores_test)\n",
    "cv_scores_log_test= cv_scores_test.mean()\n",
    "cv_scores_log_train= cv_scores_train.mean()\n",
    "cv_scores_std_log= cv_scores_test.std()\n",
    "print ('Mean cross validation test score: ' +str(cv_scores_log_test))\n",
    "print ('Mean cross validation train score: ' +str(cv_scores_log_train))\n",
    "print ('Standard deviation in cv scores: ' +str(cv_scores_std_log))"
   ]
  },
  {
   "cell_type": "code",
   "execution_count": 201,
   "id": "ba227685",
   "metadata": {},
   "outputs": [
    {
     "name": "stdout",
     "output_type": "stream",
     "text": [
      "Fitting 3 folds for each of 100 candidates, totalling 300 fits\n",
      "GaussianNB(var_smoothing=0.08111308307896872)\n",
      "0.8092694291895489\n"
     ]
    }
   ],
   "source": [
    "param_grid_nb = {'var_smoothing': np.logspace(0,-9, num=100)}\n",
    "rs4 = GridSearchCV(estimator=GaussianNB(), param_grid=param_grid_nb, verbose=1, cv=3, n_jobs=-1)\n",
    "rs4 = rs4.fit(X_train, y_train)\n",
    "print(rs4.best_estimator_)\n",
    "print(rs4.best_score_)"
   ]
  },
  {
   "cell_type": "code",
   "execution_count": 202,
   "id": "722ef004",
   "metadata": {},
   "outputs": [],
   "source": [
    "model = GaussianNB(var_smoothing=0.08111308307896872)\n",
    "model.fit(X_train,y_train)\n",
    "y_pred_NB = model.predict(X_test)"
   ]
  },
  {
   "cell_type": "code",
   "execution_count": 203,
   "id": "207a9103",
   "metadata": {},
   "outputs": [
    {
     "name": "stdout",
     "output_type": "stream",
     "text": [
      "[[ 4044  3486]\n",
      " [ 1328 16895]]\n",
      "0.8130703219042442\n"
     ]
    }
   ],
   "source": [
    "cnf_matrix= confusion_matrix(y_test,y_pred_NB)\n",
    "print(cnf_matrix)\n",
    "Accuracy_NB= model.score(X_test,y_test)\n",
    "\n",
    "print(Accuracy_NB)"
   ]
  },
  {
   "cell_type": "code",
   "execution_count": 204,
   "id": "5e627a86",
   "metadata": {},
   "outputs": [
    {
     "name": "stdout",
     "output_type": "stream",
     "text": [
      "precision: 0.8289583435552721\n",
      "recall: 0.9271250617351698\n",
      "fscore: 0.8752978965910267\n",
      "support: None\n"
     ]
    }
   ],
   "source": [
    "precision, recall, fscore, support = precision_recall_fscore_support(y_test, y_pred_NB, average='binary')\n",
    "print('precision:', precision )\n",
    "print('recall:',recall)\n",
    "print('fscore:', fscore)\n",
    "print('support:',support)"
   ]
  },
  {
   "cell_type": "code",
   "execution_count": 205,
   "id": "98a59606",
   "metadata": {},
   "outputs": [
    {
     "name": "stdout",
     "output_type": "stream",
     "text": [
      "[0.8368995  0.82205062 0.81500555 0.83343975 0.83103289]\n",
      "Mean cross validation test score: 0.827685661407459\n",
      "Mean cross validation train score: 0.8321498746306297\n",
      "Standard deviation in cv scores: 0.008021811615954954\n"
     ]
    }
   ],
   "source": [
    "cv_scores_test= cross_val_score(model,X_test,y_test,cv=5,scoring='roc_auc')\n",
    "cv_scores_train= cross_val_score(model,X_train,y_train,cv=5,scoring='roc_auc')\n",
    "print(cv_scores_test)\n",
    "cv_scores_NB_test= cv_scores_test.mean()\n",
    "cv_scores_NB_train= cv_scores_train.mean()\n",
    "cv_scores_std_NB =  cv_scores_test.std()\n",
    "print ('Mean cross validation test score: ' +str(cv_scores_NB_test))\n",
    "print ('Mean cross validation train score: ' +str(cv_scores_NB_train))\n",
    "print ('Standard deviation in cv scores: ' +str(cv_scores_std_NB))"
   ]
  },
  {
   "cell_type": "code",
   "execution_count": 207,
   "id": "9c10f083",
   "metadata": {},
   "outputs": [
    {
     "name": "stdout",
     "output_type": "stream",
     "text": [
      "             Algorithm  Model accuracy score\n",
      "0        Random Forest              0.814546\n",
      "1          Naive Bayes              0.813070\n",
      "2  Logistic Regression              0.815128\n"
     ]
    },
    {
     "data": {
      "text/html": [
       "<div>\n",
       "<style scoped>\n",
       "    .dataframe tbody tr th:only-of-type {\n",
       "        vertical-align: middle;\n",
       "    }\n",
       "\n",
       "    .dataframe tbody tr th {\n",
       "        vertical-align: top;\n",
       "    }\n",
       "\n",
       "    .dataframe thead th {\n",
       "        text-align: right;\n",
       "    }\n",
       "</style>\n",
       "<table border=\"1\" class=\"dataframe\">\n",
       "  <thead>\n",
       "    <tr style=\"text-align: right;\">\n",
       "      <th></th>\n",
       "      <th>Algorithm</th>\n",
       "      <th>ROC-AUC train score</th>\n",
       "      <th>ROC-AUC test score</th>\n",
       "    </tr>\n",
       "  </thead>\n",
       "  <tbody>\n",
       "    <tr>\n",
       "      <th>0</th>\n",
       "      <td>Random Forest</td>\n",
       "      <td>0.832839</td>\n",
       "      <td>0.833538</td>\n",
       "    </tr>\n",
       "    <tr>\n",
       "      <th>1</th>\n",
       "      <td>Naive Bayes</td>\n",
       "      <td>0.832150</td>\n",
       "      <td>0.827686</td>\n",
       "    </tr>\n",
       "    <tr>\n",
       "      <th>2</th>\n",
       "      <td>Logistic Regression</td>\n",
       "      <td>0.836347</td>\n",
       "      <td>0.836520</td>\n",
       "    </tr>\n",
       "  </tbody>\n",
       "</table>\n",
       "</div>"
      ],
      "text/plain": [
       "             Algorithm  ROC-AUC train score  ROC-AUC test score\n",
       "0        Random Forest             0.832839            0.833538\n",
       "1          Naive Bayes             0.832150            0.827686\n",
       "2  Logistic Regression             0.836347            0.836520"
      ]
     },
     "execution_count": 207,
     "metadata": {},
     "output_type": "execute_result"
    }
   ],
   "source": [
    "myLabels = ['Random Forest','Naive Bayes','Logistic Regression']\n",
    "Accuracy_score = [Accuracy_rf, Accuracy_NB, Accuracy_lr]\n",
    "score_test = [cv_scores_rf_test, cv_scores_NB_test, cv_scores_log_test]\n",
    "score_train= [ cv_scores_rf_train, cv_scores_NB_train, cv_scores_log_train]\n",
    "score_tab_accuracy = pd.DataFrame(list(zip(myLabels, Accuracy_score)), \n",
    "               columns =['Algorithm', 'Model accuracy score']) \n",
    "\n",
    "print(score_tab_accuracy)\n",
    "roc_score = pd.DataFrame(list(zip(myLabels, score_train, score_test)), \n",
    "                         columns =['Algorithm', 'ROC-AUC train score', 'ROC-AUC test score' ]) \n",
    "roc_score"
   ]
  },
  {
   "cell_type": "markdown",
   "id": "df8dc4dc",
   "metadata": {},
   "source": [
    "feature importances and ROC curve"
   ]
  },
  {
   "cell_type": "code",
   "execution_count": 209,
   "id": "5f199535",
   "metadata": {},
   "outputs": [
    {
     "name": "stdout",
     "output_type": "stream",
     "text": [
      "                 Features  Importance scores\n",
      "0      summary_char_count           0.037849\n",
      "1       review_char_count           0.051752\n",
      "2       review_word_count           0.041855\n",
      "3      summary_word_count           0.016615\n",
      "4      sentiments_reviews           0.057021\n",
      "5       sentiment_summary           0.030130\n",
      "6  review_ease_of_reading           0.053326\n",
      "7  summar_ease_of_reading           0.030049\n",
      "8  reviews_rating_cat_neg           0.091455\n",
      "9  reviews_rating_cat_neu           0.005899\n"
     ]
    },
    {
     "data": {
      "image/png": "[encoded data removed]",
      "text/plain": [
       "<Figure size 720x360 with 1 Axes>"
      ]
     },
     "metadata": {
      "needs_background": "light"
     },
     "output_type": "display_data"
    }
   ],
   "source": [
    "#Feature importances:\n",
    "\n",
    "features = X\n",
    "importances = list(rf.feature_importances_)\n",
    "tab=pd.DataFrame(list(zip(X,importances)),columns =['Features', 'Importance scores']) \n",
    "print(tab[:10])\n",
    "sorted_features =tab.sort_values(by=['Importance scores'], ascending=False)\n",
    "#Visual comparison:\n",
    "plt.figure(figsize=(10,5))\n",
    "index = list(range(len(sorted_features[:10])))\n",
    "_=plt.barh(index,sorted_features['Importance scores'][:10], align='center',color='b')\n",
    "plt.xlabel('Relative Importance',fontsize=15)\n",
    "plt.ylabel('Features',fontsize=15)\n",
    "plt.yticks(index, sorted_features['Features'][:10])\n",
    "plt.title('Feature Importances for Random Forest classifier model',fontsize=15)\n",
    "plt.gca().invert_yaxis()\n",
    "plt.savefig(\"29.png\")\n",
    "plt.show()"
   ]
  },
  {
   "cell_type": "code",
   "execution_count": 210,
   "id": "a42ebb69",
   "metadata": {},
   "outputs": [
    {
     "name": "stdout",
     "output_type": "stream",
     "text": [
      "                   Features  Importance scores  Absolute_val\n",
      "19  vader_score_summary_pos           1.532974      1.532974\n",
      "17  vader_score_summary_neg          -1.521366      1.521366\n",
      "10   reviews_rating_cat_pos           0.864210      0.864210\n",
      "11   summary_rating_cat_neg          -0.840301      0.840301\n",
      "8    reviews_rating_cat_neg          -0.829675      0.829675\n",
      "16   vader_score_review_pos           0.701152      0.701152\n",
      "13   summary_rating_cat_pos           0.610260      0.610260\n",
      "15   vader_score_review_neu          -0.595297      0.595297\n",
      "12   summary_rating_cat_neu           0.229671      0.229671\n",
      "14   vader_score_review_neg          -0.106225      0.106225\n",
      "5         sentiment_summary           0.071649      0.071649\n",
      "0        summary_char_count           0.064591      0.064591\n",
      "9    reviews_rating_cat_neu          -0.034905      0.034905\n",
      "3        summary_word_count          -0.030425      0.030425\n",
      "4        sentiments_reviews           0.027531      0.027531\n",
      "2         review_word_count          -0.022526      0.022526\n",
      "1         review_char_count           0.020606      0.020606\n",
      "18  vader_score_summary_neu          -0.011977      0.011977\n",
      "6    review_ease_of_reading           0.005965      0.005965\n",
      "7    summar_ease_of_reading           0.005870      0.005870\n"
     ]
    },
    {
     "data": {
      "image/png": "[encoded data removed]",
      "text/plain": [
       "<Figure size 720x360 with 1 Axes>"
      ]
     },
     "metadata": {
      "needs_background": "light"
     },
     "output_type": "display_data"
    }
   ],
   "source": [
    "features = X\n",
    "importances = Logreg.coef_\n",
    "absolute_importances = abs(Logreg.coef_)\n",
    "tab=pd.DataFrame(list(zip(X,importances[0], absolute_importances[0])),columns =['Features', 'Importance scores','Absolute_val']) \n",
    "\n",
    "sorted_features =tab.sort_values(by=['Absolute_val'], ascending=False)\n",
    "print(sorted_features)\n",
    "#Visual comparison:\n",
    "plt.figure(figsize=(10,5))\n",
    "index = list(range(len(sorted_features[:10])))\n",
    "_=plt.barh(index,sorted_features['Importance scores'][:10], align='center',color='b')\n",
    "plt.xlabel('Relative Importance',fontsize=15)\n",
    "plt.ylabel('Features',fontsize=15)\n",
    "plt.yticks(index, sorted_features['Features'][:10])\n",
    "plt.title('Feature Coefficients for Logistic Regression model',fontsize=15)\n",
    "plt.gca().invert_yaxis()\n",
    "plt.savefig(\"29.png\")\n",
    "plt.show()"
   ]
  },
  {
   "cell_type": "code",
   "execution_count": 216,
   "id": "9a6c0acc",
   "metadata": {},
   "outputs": [],
   "source": [
    "from sklearn.inspection import permutation_importance\n",
    "features = X\n",
    "imps = permutation_importance(model, X_test, y_test)"
   ]
  },
  {
   "cell_type": "code",
   "execution_count": null,
   "id": "a38f150b",
   "metadata": {},
   "outputs": [],
   "source": []
  },
  {
   "cell_type": "code",
   "execution_count": 226,
   "id": "1b932c86",
   "metadata": {},
   "outputs": [
    {
     "name": "stdout",
     "output_type": "stream",
     "text": [
      "                   Features  Importance scores  Absolute_val\n",
      "11   summary_rating_cat_neg           0.020867      0.020867\n",
      "17  vader_score_summary_neg           0.020728      0.020728\n",
      "8    reviews_rating_cat_neg           0.016185      0.016185\n",
      "10   reviews_rating_cat_pos           0.013264      0.013264\n",
      "19  vader_score_summary_pos           0.012434      0.012434\n",
      "18  vader_score_summary_neu           0.005289      0.005289\n",
      "13   summary_rating_cat_pos           0.003968      0.003968\n",
      "9    reviews_rating_cat_neu           0.003106      0.003106\n",
      "12   summary_rating_cat_neu           0.001709      0.001709\n",
      "16   vader_score_review_pos           0.000551      0.000551\n",
      "15   vader_score_review_neu           0.000544      0.000544\n",
      "7    summar_ease_of_reading          -0.000466      0.000466\n",
      "5         sentiment_summary          -0.000280      0.000280\n",
      "2         review_word_count           0.000163      0.000163\n",
      "4        sentiments_reviews          -0.000140      0.000140\n",
      "6    review_ease_of_reading          -0.000140      0.000140\n",
      "1         review_char_count           0.000062      0.000062\n",
      "3        summary_word_count           0.000031      0.000031\n",
      "0        summary_char_count           0.000023      0.000023\n",
      "14   vader_score_review_neg           0.000000      0.000000\n"
     ]
    },
    {
     "data": {
      "image/png": "[encoded data removed]",
      "text/plain": [
       "<Figure size 720x360 with 1 Axes>"
      ]
     },
     "metadata": {
      "needs_background": "light"
     },
     "output_type": "display_data"
    }
   ],
   "source": [
    "importances = imps.importances_mean\n",
    "absolute_importances = abs(imps.importances_mean)\n",
    "tab = pd.DataFrame(list(zip(X,importances, absolute_importances)), columns= ['Features', 'Importance scores','Absolute_val'])\n",
    "\n",
    "sorted_features = tab.sort_values(by=['Absolute_val'], ascending=False)\n",
    "print(sorted_features)\n",
    "\n",
    "plt.figure(figsize=(10,5))\n",
    "index = list(range(len(sorted_features[:10])))\n",
    "_=plt.barh(index,sorted_features['Importance scores'][:10], align='center',color='b')\n",
    "plt.xlabel('Relative Importance',fontsize=15)\n",
    "plt.ylabel('Features',fontsize=15)\n",
    "plt.yticks(index, sorted_features['Features'][:10])\n",
    "plt.title('Average Feature Importances Naive Bayes model',fontsize=15)\n",
    "plt.gca().invert_yaxis()\n",
    "plt.savefig(\"29.png\")\n",
    "plt.show()"
   ]
  },
  {
   "cell_type": "markdown",
   "id": "727e019d",
   "metadata": {},
   "source": [
    "\n",
    "Random Forest roc score"
   ]
  },
  {
   "cell_type": "code",
   "execution_count": 227,
   "id": "88bc14f5",
   "metadata": {},
   "outputs": [
    {
     "name": "stdout",
     "output_type": "stream",
     "text": [
      "ROC-AUC Score: 0.8340022412317112\n"
     ]
    }
   ],
   "source": [
    "#plot roc curves\n",
    "\n",
    "from sklearn.metrics import auc, roc_curve, roc_auc_score\n",
    "y_scores_rf = rf.predict_proba(X_test)\n",
    "y_scores_rf = y_scores_rf[:,1]\n",
    "auroc = roc_auc_score(y_test, y_scores_rf)\n",
    "print(\"ROC-AUC Score:\", auroc)"
   ]
  },
  {
   "cell_type": "code",
   "execution_count": 228,
   "id": "e55aaf9b",
   "metadata": {},
   "outputs": [
    {
     "data": {
      "image/png": "[encoded data removed]",
      "text/plain": [
       "<Figure size 720x360 with 1 Axes>"
      ]
     },
     "metadata": {
      "needs_background": "light"
     },
     "output_type": "display_data"
    }
   ],
   "source": [
    "false_positive_rate, true_positive_rate, thresholds = roc_curve(y_test, y_scores_rf)\n",
    "def plot_roc_curve(false_positive_rate, true_positive_rate, label=None):\n",
    "    plt.plot(false_positive_rate, true_positive_rate, linewidth=2, label=label)\n",
    "    plt.plot([0, 1], [0, 1], 'r', linewidth=4)\n",
    "    plt.axis([0, 1, 0, 1])\n",
    "    plt.xlabel('False Positive Rate (FPR)', fontsize=15)\n",
    "    plt.ylabel('True Positive Rate (TPR)', fontsize=15)\n",
    "    plt.title('ROC curve (RF)',fontsize=15)\n",
    "\n",
    "plt.figure(figsize=(10, 5))\n",
    "plot_roc_curve(false_positive_rate, true_positive_rate)\n",
    "plt.savefig(\"30.png\")\n",
    "plt.show()"
   ]
  },
  {
   "cell_type": "code",
   "execution_count": 230,
   "id": "f68f99ff",
   "metadata": {},
   "outputs": [
    {
     "name": "stdout",
     "output_type": "stream",
     "text": [
      "ROC-AUC Score: 0.8370297988204127\n"
     ]
    }
   ],
   "source": [
    "y_scores_logreg = Logreg.predict_proba(X_test)\n",
    "y_scores_logreg = y_scores_logreg[:,1]\n",
    "auroc = roc_auc_score(y_test, y_scores_logreg)\n",
    "print(\"ROC-AUC Score:\", auroc)"
   ]
  },
  {
   "cell_type": "code",
   "execution_count": 235,
   "id": "59e16bce",
   "metadata": {},
   "outputs": [
    {
     "data": {
      "image/png": "[encoded data removed]",
      "text/plain": [
       "<Figure size 720x360 with 1 Axes>"
      ]
     },
     "metadata": {
      "needs_background": "light"
     },
     "output_type": "display_data"
    }
   ],
   "source": [
    "false_positive_rate, true_positive_rate, thresholds = roc_curve(y_test, y_scores_logreg)###logreg\n",
    "def plot_roc_curve(false_positive_rate, true_positive_rate, label=None):\n",
    "    plt.plot(false_positive_rate, true_positive_rate, linewidth=2, label=label)\n",
    "    plt.plot([0, 1], [0, 1], 'r', linewidth=4)\n",
    "    plt.axis([0, 1, 0, 1])\n",
    "    plt.xlabel('False Positive Rate (FPR)', fontsize=15)\n",
    "    plt.ylabel('True Positive Rate (TPR)', fontsize=15)\n",
    "    plt.title('ROC curve (LogReg)',fontsize=15)\n",
    "\n",
    "plt.figure(figsize=(10, 5))\n",
    "plot_roc_curve(false_positive_rate, true_positive_rate)\n",
    "plt.savefig(\"30.png\")\n",
    "plt.show()"
   ]
  },
  {
   "cell_type": "code",
   "execution_count": 232,
   "id": "a4111c34",
   "metadata": {},
   "outputs": [
    {
     "name": "stdout",
     "output_type": "stream",
     "text": [
      "ROC-AUC Score: 0.8330156882575972\n"
     ]
    }
   ],
   "source": [
    "y_scores_NB = model.predict_proba(X_test)\n",
    "y_scores_NB = y_scores_NB[:,1]\n",
    "auroc = roc_auc_score(y_test, y_scores_NB)\n",
    "print(\"ROC-AUC Score:\", auroc)"
   ]
  },
  {
   "cell_type": "code",
   "execution_count": 237,
   "id": "2e6411c3",
   "metadata": {},
   "outputs": [
    {
     "data": {
      "image/png": "[encoded data removed]",
      "text/plain": [
       "<Figure size 720x360 with 1 Axes>"
      ]
     },
     "metadata": {
      "needs_background": "light"
     },
     "output_type": "display_data"
    }
   ],
   "source": [
    "false_positive_rate, true_positive_rate, thresholds = roc_curve(y_test, y_scores_NB)###nb\n",
    "def plot_roc_curve(false_positive_rate, true_positive_rate, label=None):\n",
    "    plt.plot(false_positive_rate, true_positive_rate, linewidth=2, label=label)\n",
    "    plt.plot([0, 1], [0, 1], 'r', linewidth=4)\n",
    "    plt.axis([0, 1, 0, 1])\n",
    "    plt.xlabel('False Positive Rate (FPR)', fontsize=15)\n",
    "    plt.ylabel('True Positive Rate (TPR)', fontsize=15)\n",
    "    plt.title('ROC curve (Naive Bayes)',fontsize=15)\n",
    "\n",
    "plt.show()\n",
    "plt.figure(figsize=(10, 5))\n",
    "plot_roc_curve(false_positive_rate, true_positive_rate)\n",
    "plt.savefig(\"30.png\")\n",
    "plt.show()"
   ]
  },
  {
   "cell_type": "code",
   "execution_count": 240,
   "id": "ad32454c",
   "metadata": {},
   "outputs": [
    {
     "data": {
      "image/png": "[encoded data removed]",
      "text/plain": [
       "<Figure size 720x360 with 1 Axes>"
      ]
     },
     "metadata": {
      "needs_background": "light"
     },
     "output_type": "display_data"
    }
   ],
   "source": [
    "false_positive_rate1, true_positive_rate1, thresholds1 = roc_curve(y_test, y_scores_logreg)###logreg\n",
    "false_positive_rate2, true_positive_rate2, thresholds2 = roc_curve(y_test, y_scores_NB)\n",
    "false_positive_rate3, true_positive_rate3, thresholds3 = roc_curve(y_test, y_scores_rf)\n",
    "def plot_roc_curve(false_positive_rate, true_positive_rate, label=None):\n",
    "    plt.plot(false_positive_rate1, true_positive_rate1, linewidth=2, label='Logistic Regression')\n",
    "    plt.plot(false_positive_rate2, true_positive_rate2, linewidth=2, label='Naive Bayes')\n",
    "    plt.plot(false_positive_rate3, true_positive_rate3, linewidth=2, label='Random Forest')\n",
    "    plt.plot([0, 1], [0, 1], 'r', linewidth=4)\n",
    "    plt.axis([0, 1, 0, 1])\n",
    "    plt.xlabel('False Positive Rate (FPR)', fontsize=15)\n",
    "    plt.ylabel('True Positive Rate (TPR)', fontsize=15)\n",
    "    plt.title('ROC curve',fontsize=15)\n",
    "    plt.legend()\n",
    "\n",
    "plt.figure(figsize=(10, 5))\n",
    "plot_roc_curve(false_positive_rate, true_positive_rate)\n",
    "plt.savefig(\"30.png\")\n",
    "plt.show()"
   ]
  },
  {
   "cell_type": "code",
   "execution_count": 241,
   "id": "08d364ff",
   "metadata": {},
   "outputs": [],
   "source": [
    "#add precision recall f1-score in a graph\n",
    "precision_n, recall_n, fscore_n, support_n = precision_recall_fscore_support(y_test, y_pred_NB, average='binary')\n",
    "precision_rf, recall_rf, fscore_rf, support_rf = precision_recall_fscore_support(y_test, y_predict_rf, average='binary')\n",
    "precision_lr, recall_lr, fscore_lr, support_lr = precision_recall_fscore_support(y_test, y_pred_lr, average='binary')"
   ]
  },
  {
   "cell_type": "code",
   "execution_count": 243,
   "id": "cc0dbfed",
   "metadata": {},
   "outputs": [
    {
     "data": {
      "text/html": [
       "<div>\n",
       "<style scoped>\n",
       "    .dataframe tbody tr th:only-of-type {\n",
       "        vertical-align: middle;\n",
       "    }\n",
       "\n",
       "    .dataframe tbody tr th {\n",
       "        vertical-align: top;\n",
       "    }\n",
       "\n",
       "    .dataframe thead th {\n",
       "        text-align: right;\n",
       "    }\n",
       "</style>\n",
       "<table border=\"1\" class=\"dataframe\">\n",
       "  <thead>\n",
       "    <tr style=\"text-align: right;\">\n",
       "      <th></th>\n",
       "      <th>Algorithm</th>\n",
       "      <th>Preicision</th>\n",
       "      <th>Recall</th>\n",
       "      <th>F1-score</th>\n",
       "    </tr>\n",
       "  </thead>\n",
       "  <tbody>\n",
       "    <tr>\n",
       "      <th>0</th>\n",
       "      <td>Random Forest</td>\n",
       "      <td>0.824917</td>\n",
       "      <td>0.936728</td>\n",
       "      <td>0.877274</td>\n",
       "    </tr>\n",
       "    <tr>\n",
       "      <th>1</th>\n",
       "      <td>Naive Bayes</td>\n",
       "      <td>0.828958</td>\n",
       "      <td>0.927125</td>\n",
       "      <td>0.875298</td>\n",
       "    </tr>\n",
       "    <tr>\n",
       "      <th>2</th>\n",
       "      <td>Logistic Regression</td>\n",
       "      <td>0.826178</td>\n",
       "      <td>0.935576</td>\n",
       "      <td>0.877480</td>\n",
       "    </tr>\n",
       "  </tbody>\n",
       "</table>\n",
       "</div>"
      ],
      "text/plain": [
       "             Algorithm  Preicision    Recall  F1-score\n",
       "0        Random Forest    0.824917  0.936728  0.877274\n",
       "1          Naive Bayes    0.828958  0.927125  0.875298\n",
       "2  Logistic Regression    0.826178  0.935576  0.877480"
      ]
     },
     "execution_count": 243,
     "metadata": {},
     "output_type": "execute_result"
    }
   ],
   "source": [
    "\n",
    "myLabels = ['Random Forest','Naive Bayes','Logistic Regression']\n",
    "precision_score = [precision_rf,precision_n,precision_lr]\n",
    "recall_score = [recall_rf,recall_n,recall_lr]\n",
    "fscore = [fscore_rf,fscore_n,fscore_lr]\n",
    "\n",
    "df_scores = pd.DataFrame(list(zip(myLabels, precision_score, recall_score, fscore)),columns = ['Algorithm', 'Preicision','Recall','F1-score'])\n",
    "\n",
    "df_scores"
   ]
  },
  {
   "cell_type": "code",
   "execution_count": null,
   "id": "14b61858",
   "metadata": {},
   "outputs": [],
   "source": []
  }
 ],
 "metadata": {
  "kernelspec": {
   "display_name": "Python 3",
   "language": "python",
   "name": "python3"
  },
  "language_info": {
   "codemirror_mode": {
    "name": "ipython",
    "version": 3
   },
   "file_extension": ".py",
   "mimetype": "text/x-python",
   "name": "python",
   "nbconvert_exporter": "python",
   "pygments_lexer": "ipython3",
   "version": "3.8.8"
  }
 },
 "nbformat": 4,
 "nbformat_minor": 5
}
